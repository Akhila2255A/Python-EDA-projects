{
 "cells": [
  {
   "cell_type": "markdown",
   "id": "fa664a6e-fa40-4de3-ae45-dcdee634805f",
   "metadata": {},
   "source": [
    "# Customer_purchase_file"
   ]
  },
  {
   "cell_type": "code",
   "execution_count": 69,
   "id": "7ec8ea13-4b03-4fae-b9a4-bd08c0f62396",
   "metadata": {},
   "outputs": [
    {
     "name": "stdout",
     "output_type": "stream",
     "text": [
      "Requirement already satisfied: pandas in c:\\users\\91988\\anaconda3\\lib\\site-packages (2.1.4)\n",
      "Requirement already satisfied: numpy<2,>=1.23.2 in c:\\users\\91988\\anaconda3\\lib\\site-packages (from pandas) (1.26.4)\n",
      "Requirement already satisfied: python-dateutil>=2.8.2 in c:\\users\\91988\\anaconda3\\lib\\site-packages (from pandas) (2.8.2)\n",
      "Requirement already satisfied: pytz>=2020.1 in c:\\users\\91988\\anaconda3\\lib\\site-packages (from pandas) (2023.3.post1)\n",
      "Requirement already satisfied: tzdata>=2022.1 in c:\\users\\91988\\anaconda3\\lib\\site-packages (from pandas) (2023.3)\n",
      "Requirement already satisfied: six>=1.5 in c:\\users\\91988\\anaconda3\\lib\\site-packages (from python-dateutil>=2.8.2->pandas) (1.16.0)\n"
     ]
    }
   ],
   "source": [
    "!pip install pandas"
   ]
  },
  {
   "cell_type": "code",
   "execution_count": 80,
   "id": "a899bbb0-eaaf-45a7-a359-b4d4d0923c08",
   "metadata": {},
   "outputs": [
    {
     "name": "stdout",
     "output_type": "stream",
     "text": [
      "Requirement already satisfied: seaborn in c:\\users\\91988\\anaconda3\\lib\\site-packages (0.12.2)\n",
      "Requirement already satisfied: numpy!=1.24.0,>=1.17 in c:\\users\\91988\\anaconda3\\lib\\site-packages (from seaborn) (1.26.4)\n",
      "Requirement already satisfied: pandas>=0.25 in c:\\users\\91988\\anaconda3\\lib\\site-packages (from seaborn) (2.1.4)\n",
      "Requirement already satisfied: matplotlib!=3.6.1,>=3.1 in c:\\users\\91988\\anaconda3\\lib\\site-packages (from seaborn) (3.8.0)\n",
      "Requirement already satisfied: contourpy>=1.0.1 in c:\\users\\91988\\anaconda3\\lib\\site-packages (from matplotlib!=3.6.1,>=3.1->seaborn) (1.2.0)\n",
      "Requirement already satisfied: cycler>=0.10 in c:\\users\\91988\\anaconda3\\lib\\site-packages (from matplotlib!=3.6.1,>=3.1->seaborn) (0.11.0)\n",
      "Requirement already satisfied: fonttools>=4.22.0 in c:\\users\\91988\\anaconda3\\lib\\site-packages (from matplotlib!=3.6.1,>=3.1->seaborn) (4.25.0)\n",
      "Requirement already satisfied: kiwisolver>=1.0.1 in c:\\users\\91988\\anaconda3\\lib\\site-packages (from matplotlib!=3.6.1,>=3.1->seaborn) (1.4.4)\n",
      "Requirement already satisfied: packaging>=20.0 in c:\\users\\91988\\anaconda3\\lib\\site-packages (from matplotlib!=3.6.1,>=3.1->seaborn) (23.1)\n",
      "Requirement already satisfied: pillow>=6.2.0 in c:\\users\\91988\\anaconda3\\lib\\site-packages (from matplotlib!=3.6.1,>=3.1->seaborn) (10.2.0)\n",
      "Requirement already satisfied: pyparsing>=2.3.1 in c:\\users\\91988\\anaconda3\\lib\\site-packages (from matplotlib!=3.6.1,>=3.1->seaborn) (3.0.9)\n",
      "Requirement already satisfied: python-dateutil>=2.7 in c:\\users\\91988\\anaconda3\\lib\\site-packages (from matplotlib!=3.6.1,>=3.1->seaborn) (2.8.2)\n",
      "Requirement already satisfied: pytz>=2020.1 in c:\\users\\91988\\anaconda3\\lib\\site-packages (from pandas>=0.25->seaborn) (2023.3.post1)\n",
      "Requirement already satisfied: tzdata>=2022.1 in c:\\users\\91988\\anaconda3\\lib\\site-packages (from pandas>=0.25->seaborn) (2023.3)\n",
      "Requirement already satisfied: six>=1.5 in c:\\users\\91988\\anaconda3\\lib\\site-packages (from python-dateutil>=2.7->matplotlib!=3.6.1,>=3.1->seaborn) (1.16.0)\n"
     ]
    }
   ],
   "source": [
    "!pip install seaborn"
   ]
  },
  {
   "cell_type": "code",
   "execution_count": null,
   "id": "4fff7bf1-e587-46b0-a7c9-8df0d3f151a6",
   "metadata": {},
   "outputs": [],
   "source": []
  },
  {
   "cell_type": "code",
   "execution_count": 81,
   "id": "9009dd37-f8f9-40d0-9f51-ae5fb8596725",
   "metadata": {},
   "outputs": [],
   "source": [
    "import numpy as np\n",
    "import pandas as pd\n",
    "import matplotlib.pyplot as plt\n",
    "import seaborn as sns\n",
    "import warnings\n",
    "warnings.filterwarnings('ignore')"
   ]
  },
  {
   "cell_type": "code",
   "execution_count": 82,
   "id": "f0e5ceb3-0cb7-4822-8276-745db002557e",
   "metadata": {},
   "outputs": [],
   "source": [
    "dt = pd.read_csv(r\"C:\\Users\\91988\\Downloads\\data scientist\\customer_purchase_data.csv\")"
   ]
  },
  {
   "cell_type": "code",
   "execution_count": 74,
   "id": "30b2d986-2ae8-4455-9471-611f0fe9dd8f",
   "metadata": {},
   "outputs": [
    {
     "data": {
      "text/html": [
       "<div>\n",
       "<style scoped>\n",
       "    .dataframe tbody tr th:only-of-type {\n",
       "        vertical-align: middle;\n",
       "    }\n",
       "\n",
       "    .dataframe tbody tr th {\n",
       "        vertical-align: top;\n",
       "    }\n",
       "\n",
       "    .dataframe thead th {\n",
       "        text-align: right;\n",
       "    }\n",
       "</style>\n",
       "<table border=\"1\" class=\"dataframe\">\n",
       "  <thead>\n",
       "    <tr style=\"text-align: right;\">\n",
       "      <th></th>\n",
       "      <th>Age</th>\n",
       "      <th>Gender</th>\n",
       "      <th>AnnualIncome</th>\n",
       "      <th>NumberOfPurchases</th>\n",
       "      <th>ProductCategory</th>\n",
       "      <th>TimeSpentOnWebsite</th>\n",
       "      <th>LoyaltyProgram</th>\n",
       "      <th>DiscountsAvailed</th>\n",
       "      <th>PurchaseStatus</th>\n",
       "    </tr>\n",
       "  </thead>\n",
       "  <tbody>\n",
       "    <tr>\n",
       "      <th>0</th>\n",
       "      <td>40</td>\n",
       "      <td>1</td>\n",
       "      <td>66120.267939</td>\n",
       "      <td>8</td>\n",
       "      <td>0</td>\n",
       "      <td>30.568601</td>\n",
       "      <td>0</td>\n",
       "      <td>5</td>\n",
       "      <td>1</td>\n",
       "    </tr>\n",
       "    <tr>\n",
       "      <th>1</th>\n",
       "      <td>20</td>\n",
       "      <td>1</td>\n",
       "      <td>23579.773583</td>\n",
       "      <td>4</td>\n",
       "      <td>2</td>\n",
       "      <td>38.240097</td>\n",
       "      <td>0</td>\n",
       "      <td>5</td>\n",
       "      <td>0</td>\n",
       "    </tr>\n",
       "    <tr>\n",
       "      <th>2</th>\n",
       "      <td>27</td>\n",
       "      <td>1</td>\n",
       "      <td>127821.306432</td>\n",
       "      <td>11</td>\n",
       "      <td>2</td>\n",
       "      <td>31.633212</td>\n",
       "      <td>1</td>\n",
       "      <td>0</td>\n",
       "      <td>1</td>\n",
       "    </tr>\n",
       "    <tr>\n",
       "      <th>3</th>\n",
       "      <td>24</td>\n",
       "      <td>1</td>\n",
       "      <td>137798.623120</td>\n",
       "      <td>19</td>\n",
       "      <td>3</td>\n",
       "      <td>46.167059</td>\n",
       "      <td>0</td>\n",
       "      <td>4</td>\n",
       "      <td>1</td>\n",
       "    </tr>\n",
       "    <tr>\n",
       "      <th>4</th>\n",
       "      <td>31</td>\n",
       "      <td>1</td>\n",
       "      <td>99300.964220</td>\n",
       "      <td>19</td>\n",
       "      <td>1</td>\n",
       "      <td>19.823592</td>\n",
       "      <td>0</td>\n",
       "      <td>0</td>\n",
       "      <td>1</td>\n",
       "    </tr>\n",
       "    <tr>\n",
       "      <th>5</th>\n",
       "      <td>66</td>\n",
       "      <td>1</td>\n",
       "      <td>37758.117475</td>\n",
       "      <td>14</td>\n",
       "      <td>4</td>\n",
       "      <td>17.827493</td>\n",
       "      <td>0</td>\n",
       "      <td>2</td>\n",
       "      <td>0</td>\n",
       "    </tr>\n",
       "    <tr>\n",
       "      <th>6</th>\n",
       "      <td>39</td>\n",
       "      <td>1</td>\n",
       "      <td>126883.385286</td>\n",
       "      <td>16</td>\n",
       "      <td>3</td>\n",
       "      <td>42.085384</td>\n",
       "      <td>1</td>\n",
       "      <td>4</td>\n",
       "      <td>1</td>\n",
       "    </tr>\n",
       "    <tr>\n",
       "      <th>7</th>\n",
       "      <td>64</td>\n",
       "      <td>1</td>\n",
       "      <td>39707.359724</td>\n",
       "      <td>13</td>\n",
       "      <td>2</td>\n",
       "      <td>17.190292</td>\n",
       "      <td>1</td>\n",
       "      <td>0</td>\n",
       "      <td>0</td>\n",
       "    </tr>\n",
       "    <tr>\n",
       "      <th>8</th>\n",
       "      <td>43</td>\n",
       "      <td>0</td>\n",
       "      <td>102797.301269</td>\n",
       "      <td>20</td>\n",
       "      <td>1</td>\n",
       "      <td>6.023475</td>\n",
       "      <td>0</td>\n",
       "      <td>3</td>\n",
       "      <td>0</td>\n",
       "    </tr>\n",
       "    <tr>\n",
       "      <th>9</th>\n",
       "      <td>20</td>\n",
       "      <td>1</td>\n",
       "      <td>63854.921080</td>\n",
       "      <td>16</td>\n",
       "      <td>0</td>\n",
       "      <td>38.572466</td>\n",
       "      <td>0</td>\n",
       "      <td>5</td>\n",
       "      <td>1</td>\n",
       "    </tr>\n",
       "  </tbody>\n",
       "</table>\n",
       "</div>"
      ],
      "text/plain": [
       "   Age  Gender   AnnualIncome  NumberOfPurchases  ProductCategory  \\\n",
       "0   40       1   66120.267939                  8                0   \n",
       "1   20       1   23579.773583                  4                2   \n",
       "2   27       1  127821.306432                 11                2   \n",
       "3   24       1  137798.623120                 19                3   \n",
       "4   31       1   99300.964220                 19                1   \n",
       "5   66       1   37758.117475                 14                4   \n",
       "6   39       1  126883.385286                 16                3   \n",
       "7   64       1   39707.359724                 13                2   \n",
       "8   43       0  102797.301269                 20                1   \n",
       "9   20       1   63854.921080                 16                0   \n",
       "\n",
       "   TimeSpentOnWebsite  LoyaltyProgram  DiscountsAvailed  PurchaseStatus  \n",
       "0           30.568601               0                 5               1  \n",
       "1           38.240097               0                 5               0  \n",
       "2           31.633212               1                 0               1  \n",
       "3           46.167059               0                 4               1  \n",
       "4           19.823592               0                 0               1  \n",
       "5           17.827493               0                 2               0  \n",
       "6           42.085384               1                 4               1  \n",
       "7           17.190292               1                 0               0  \n",
       "8            6.023475               0                 3               0  \n",
       "9           38.572466               0                 5               1  "
      ]
     },
     "execution_count": 74,
     "metadata": {},
     "output_type": "execute_result"
    }
   ],
   "source": [
    "dt.head(10)  # To find top 10columns"
   ]
  },
  {
   "cell_type": "code",
   "execution_count": 75,
   "id": "98ae3ae0-7399-4402-84ba-6bff01216e13",
   "metadata": {},
   "outputs": [
    {
     "data": {
      "text/html": [
       "<div>\n",
       "<style scoped>\n",
       "    .dataframe tbody tr th:only-of-type {\n",
       "        vertical-align: middle;\n",
       "    }\n",
       "\n",
       "    .dataframe tbody tr th {\n",
       "        vertical-align: top;\n",
       "    }\n",
       "\n",
       "    .dataframe thead th {\n",
       "        text-align: right;\n",
       "    }\n",
       "</style>\n",
       "<table border=\"1\" class=\"dataframe\">\n",
       "  <thead>\n",
       "    <tr style=\"text-align: right;\">\n",
       "      <th></th>\n",
       "      <th>Age</th>\n",
       "      <th>Gender</th>\n",
       "      <th>AnnualIncome</th>\n",
       "      <th>NumberOfPurchases</th>\n",
       "      <th>ProductCategory</th>\n",
       "      <th>TimeSpentOnWebsite</th>\n",
       "      <th>LoyaltyProgram</th>\n",
       "      <th>DiscountsAvailed</th>\n",
       "      <th>PurchaseStatus</th>\n",
       "    </tr>\n",
       "  </thead>\n",
       "  <tbody>\n",
       "    <tr>\n",
       "      <th>1495</th>\n",
       "      <td>39</td>\n",
       "      <td>1</td>\n",
       "      <td>65048.141834</td>\n",
       "      <td>13</td>\n",
       "      <td>0</td>\n",
       "      <td>34.590743</td>\n",
       "      <td>0</td>\n",
       "      <td>5</td>\n",
       "      <td>1</td>\n",
       "    </tr>\n",
       "    <tr>\n",
       "      <th>1496</th>\n",
       "      <td>67</td>\n",
       "      <td>1</td>\n",
       "      <td>28775.331069</td>\n",
       "      <td>18</td>\n",
       "      <td>2</td>\n",
       "      <td>17.625707</td>\n",
       "      <td>0</td>\n",
       "      <td>1</td>\n",
       "      <td>1</td>\n",
       "    </tr>\n",
       "    <tr>\n",
       "      <th>1497</th>\n",
       "      <td>40</td>\n",
       "      <td>1</td>\n",
       "      <td>57363.247541</td>\n",
       "      <td>7</td>\n",
       "      <td>4</td>\n",
       "      <td>12.206033</td>\n",
       "      <td>0</td>\n",
       "      <td>0</td>\n",
       "      <td>0</td>\n",
       "    </tr>\n",
       "    <tr>\n",
       "      <th>1498</th>\n",
       "      <td>63</td>\n",
       "      <td>0</td>\n",
       "      <td>134021.775532</td>\n",
       "      <td>16</td>\n",
       "      <td>2</td>\n",
       "      <td>37.311634</td>\n",
       "      <td>1</td>\n",
       "      <td>0</td>\n",
       "      <td>1</td>\n",
       "    </tr>\n",
       "    <tr>\n",
       "      <th>1499</th>\n",
       "      <td>50</td>\n",
       "      <td>0</td>\n",
       "      <td>52625.665974</td>\n",
       "      <td>13</td>\n",
       "      <td>0</td>\n",
       "      <td>25.348017</td>\n",
       "      <td>1</td>\n",
       "      <td>4</td>\n",
       "      <td>1</td>\n",
       "    </tr>\n",
       "  </tbody>\n",
       "</table>\n",
       "</div>"
      ],
      "text/plain": [
       "      Age  Gender   AnnualIncome  NumberOfPurchases  ProductCategory  \\\n",
       "1495   39       1   65048.141834                 13                0   \n",
       "1496   67       1   28775.331069                 18                2   \n",
       "1497   40       1   57363.247541                  7                4   \n",
       "1498   63       0  134021.775532                 16                2   \n",
       "1499   50       0   52625.665974                 13                0   \n",
       "\n",
       "      TimeSpentOnWebsite  LoyaltyProgram  DiscountsAvailed  PurchaseStatus  \n",
       "1495           34.590743               0                 5               1  \n",
       "1496           17.625707               0                 1               1  \n",
       "1497           12.206033               0                 0               0  \n",
       "1498           37.311634               1                 0               1  \n",
       "1499           25.348017               1                 4               1  "
      ]
     },
     "execution_count": 75,
     "metadata": {},
     "output_type": "execute_result"
    }
   ],
   "source": [
    "dt.tail() #To find bottom 5columns"
   ]
  },
  {
   "cell_type": "code",
   "execution_count": 32,
   "id": "3c676cc1-864c-4445-81ba-2175ff0f5553",
   "metadata": {},
   "outputs": [
    {
     "data": {
      "text/html": [
       "<div>\n",
       "<style scoped>\n",
       "    .dataframe tbody tr th:only-of-type {\n",
       "        vertical-align: middle;\n",
       "    }\n",
       "\n",
       "    .dataframe tbody tr th {\n",
       "        vertical-align: top;\n",
       "    }\n",
       "\n",
       "    .dataframe thead th {\n",
       "        text-align: right;\n",
       "    }\n",
       "</style>\n",
       "<table border=\"1\" class=\"dataframe\">\n",
       "  <thead>\n",
       "    <tr style=\"text-align: right;\">\n",
       "      <th></th>\n",
       "      <th>Age</th>\n",
       "      <th>Gender</th>\n",
       "      <th>AnnualIncome</th>\n",
       "      <th>NumberOfPurchases</th>\n",
       "      <th>ProductCategory</th>\n",
       "      <th>TimeSpentOnWebsite</th>\n",
       "      <th>LoyaltyProgram</th>\n",
       "      <th>DiscountsAvailed</th>\n",
       "      <th>PurchaseStatus</th>\n",
       "    </tr>\n",
       "  </thead>\n",
       "  <tbody>\n",
       "    <tr>\n",
       "      <th>count</th>\n",
       "      <td>1500.000000</td>\n",
       "      <td>1500.000000</td>\n",
       "      <td>1500.000000</td>\n",
       "      <td>1500.000000</td>\n",
       "      <td>1500.000000</td>\n",
       "      <td>1500.000000</td>\n",
       "      <td>1500.000000</td>\n",
       "      <td>1500.000000</td>\n",
       "      <td>1500.00000</td>\n",
       "    </tr>\n",
       "    <tr>\n",
       "      <th>mean</th>\n",
       "      <td>44.298667</td>\n",
       "      <td>0.504667</td>\n",
       "      <td>84249.164338</td>\n",
       "      <td>10.420000</td>\n",
       "      <td>2.012667</td>\n",
       "      <td>30.469040</td>\n",
       "      <td>0.326667</td>\n",
       "      <td>2.555333</td>\n",
       "      <td>0.43200</td>\n",
       "    </tr>\n",
       "    <tr>\n",
       "      <th>std</th>\n",
       "      <td>15.537259</td>\n",
       "      <td>0.500145</td>\n",
       "      <td>37629.493078</td>\n",
       "      <td>5.887391</td>\n",
       "      <td>1.428005</td>\n",
       "      <td>16.984392</td>\n",
       "      <td>0.469151</td>\n",
       "      <td>1.705152</td>\n",
       "      <td>0.49552</td>\n",
       "    </tr>\n",
       "    <tr>\n",
       "      <th>min</th>\n",
       "      <td>18.000000</td>\n",
       "      <td>0.000000</td>\n",
       "      <td>20001.512518</td>\n",
       "      <td>0.000000</td>\n",
       "      <td>0.000000</td>\n",
       "      <td>1.037023</td>\n",
       "      <td>0.000000</td>\n",
       "      <td>0.000000</td>\n",
       "      <td>0.00000</td>\n",
       "    </tr>\n",
       "    <tr>\n",
       "      <th>25%</th>\n",
       "      <td>31.000000</td>\n",
       "      <td>0.000000</td>\n",
       "      <td>53028.979155</td>\n",
       "      <td>5.000000</td>\n",
       "      <td>1.000000</td>\n",
       "      <td>16.156700</td>\n",
       "      <td>0.000000</td>\n",
       "      <td>1.000000</td>\n",
       "      <td>0.00000</td>\n",
       "    </tr>\n",
       "    <tr>\n",
       "      <th>50%</th>\n",
       "      <td>45.000000</td>\n",
       "      <td>1.000000</td>\n",
       "      <td>83699.581476</td>\n",
       "      <td>11.000000</td>\n",
       "      <td>2.000000</td>\n",
       "      <td>30.939516</td>\n",
       "      <td>0.000000</td>\n",
       "      <td>3.000000</td>\n",
       "      <td>0.00000</td>\n",
       "    </tr>\n",
       "    <tr>\n",
       "      <th>75%</th>\n",
       "      <td>57.000000</td>\n",
       "      <td>1.000000</td>\n",
       "      <td>117167.772858</td>\n",
       "      <td>15.000000</td>\n",
       "      <td>3.000000</td>\n",
       "      <td>44.369863</td>\n",
       "      <td>1.000000</td>\n",
       "      <td>4.000000</td>\n",
       "      <td>1.00000</td>\n",
       "    </tr>\n",
       "    <tr>\n",
       "      <th>max</th>\n",
       "      <td>70.000000</td>\n",
       "      <td>1.000000</td>\n",
       "      <td>149785.176481</td>\n",
       "      <td>20.000000</td>\n",
       "      <td>4.000000</td>\n",
       "      <td>59.991105</td>\n",
       "      <td>1.000000</td>\n",
       "      <td>5.000000</td>\n",
       "      <td>1.00000</td>\n",
       "    </tr>\n",
       "  </tbody>\n",
       "</table>\n",
       "</div>"
      ],
      "text/plain": [
       "               Age       Gender   AnnualIncome  NumberOfPurchases  \\\n",
       "count  1500.000000  1500.000000    1500.000000        1500.000000   \n",
       "mean     44.298667     0.504667   84249.164338          10.420000   \n",
       "std      15.537259     0.500145   37629.493078           5.887391   \n",
       "min      18.000000     0.000000   20001.512518           0.000000   \n",
       "25%      31.000000     0.000000   53028.979155           5.000000   \n",
       "50%      45.000000     1.000000   83699.581476          11.000000   \n",
       "75%      57.000000     1.000000  117167.772858          15.000000   \n",
       "max      70.000000     1.000000  149785.176481          20.000000   \n",
       "\n",
       "       ProductCategory  TimeSpentOnWebsite  LoyaltyProgram  DiscountsAvailed  \\\n",
       "count      1500.000000         1500.000000     1500.000000       1500.000000   \n",
       "mean          2.012667           30.469040        0.326667          2.555333   \n",
       "std           1.428005           16.984392        0.469151          1.705152   \n",
       "min           0.000000            1.037023        0.000000          0.000000   \n",
       "25%           1.000000           16.156700        0.000000          1.000000   \n",
       "50%           2.000000           30.939516        0.000000          3.000000   \n",
       "75%           3.000000           44.369863        1.000000          4.000000   \n",
       "max           4.000000           59.991105        1.000000          5.000000   \n",
       "\n",
       "       PurchaseStatus  \n",
       "count      1500.00000  \n",
       "mean          0.43200  \n",
       "std           0.49552  \n",
       "min           0.00000  \n",
       "25%           0.00000  \n",
       "50%           0.00000  \n",
       "75%           1.00000  \n",
       "max           1.00000  "
      ]
     },
     "execution_count": 32,
     "metadata": {},
     "output_type": "execute_result"
    }
   ],
   "source": [
    "dt.describe() #To describe Statastical analysis on numeric column"
   ]
  },
  {
   "cell_type": "code",
   "execution_count": 16,
   "id": "85888c9d-3220-435e-ba09-2467c2422795",
   "metadata": {},
   "outputs": [
    {
     "name": "stdout",
     "output_type": "stream",
     "text": [
      "<class 'pandas.core.frame.DataFrame'>\n",
      "RangeIndex: 1500 entries, 0 to 1499\n",
      "Data columns (total 9 columns):\n",
      " #   Column              Non-Null Count  Dtype  \n",
      "---  ------              --------------  -----  \n",
      " 0   Age                 1500 non-null   int64  \n",
      " 1   Gender              1500 non-null   int64  \n",
      " 2   AnnualIncome        1500 non-null   float64\n",
      " 3   NumberOfPurchases   1500 non-null   int64  \n",
      " 4   ProductCategory     1500 non-null   int64  \n",
      " 5   TimeSpentOnWebsite  1500 non-null   float64\n",
      " 6   LoyaltyProgram      1500 non-null   int64  \n",
      " 7   DiscountsAvailed    1500 non-null   int64  \n",
      " 8   PurchaseStatus      1500 non-null   int64  \n",
      "dtypes: float64(2), int64(7)\n",
      "memory usage: 105.6 KB\n"
     ]
    }
   ],
   "source": [
    "dt.info() #To find entire dataset information"
   ]
  },
  {
   "cell_type": "code",
   "execution_count": 10,
   "id": "4e772614-272b-44bd-8117-dc3c89699890",
   "metadata": {},
   "outputs": [
    {
     "data": {
      "text/plain": [
       "(1500, 9)"
      ]
     },
     "execution_count": 10,
     "metadata": {},
     "output_type": "execute_result"
    }
   ],
   "source": [
    "dt.shape"
   ]
  },
  {
   "cell_type": "code",
   "execution_count": 10,
   "id": "772a8014-34ff-498a-988b-4afe839259a8",
   "metadata": {},
   "outputs": [
    {
     "data": {
      "text/plain": [
       "RangeIndex(start=0, stop=1500, step=1)"
      ]
     },
     "execution_count": 10,
     "metadata": {},
     "output_type": "execute_result"
    }
   ],
   "source": [
    "dt.index"
   ]
  },
  {
   "cell_type": "code",
   "execution_count": 13,
   "id": "f6c71c46-6083-4b0d-ae4c-30ba06c3223f",
   "metadata": {},
   "outputs": [
    {
     "data": {
      "text/plain": [
       "Index(['Age', 'Gender', 'AnnualIncome', 'NumberOfPurchases', 'ProductCategory',\n",
       "       'TimeSpentOnWebsite', 'LoyaltyProgram', 'DiscountsAvailed',\n",
       "       'PurchaseStatus'],\n",
       "      dtype='object')"
      ]
     },
     "execution_count": 13,
     "metadata": {},
     "output_type": "execute_result"
    }
   ],
   "source": [
    "dt.columns"
   ]
  },
  {
   "cell_type": "code",
   "execution_count": 15,
   "id": "356678af-469c-4769-a1f0-09ee1214597d",
   "metadata": {},
   "outputs": [
    {
     "data": {
      "text/plain": [
       "Age                     int64\n",
       "Gender                  int64\n",
       "AnnualIncome          float64\n",
       "NumberOfPurchases       int64\n",
       "ProductCategory         int64\n",
       "TimeSpentOnWebsite    float64\n",
       "LoyaltyProgram          int64\n",
       "DiscountsAvailed        int64\n",
       "PurchaseStatus          int64\n",
       "dtype: object"
      ]
     },
     "execution_count": 15,
     "metadata": {},
     "output_type": "execute_result"
    }
   ],
   "source": [
    "dt.dtypes  #it shows the data_type  of each columns "
   ]
  },
  {
   "cell_type": "markdown",
   "id": "9c6a3db0-6dd1-4d9d-839c-817c6ec7114d",
   "metadata": {},
   "source": [
    "# Data Cleaning"
   ]
  },
  {
   "cell_type": "code",
   "execution_count": 8,
   "id": "334a8e9f-308a-48c7-a72a-d4230dee8728",
   "metadata": {},
   "outputs": [
    {
     "data": {
      "text/html": [
       "<div>\n",
       "<style scoped>\n",
       "    .dataframe tbody tr th:only-of-type {\n",
       "        vertical-align: middle;\n",
       "    }\n",
       "\n",
       "    .dataframe tbody tr th {\n",
       "        vertical-align: top;\n",
       "    }\n",
       "\n",
       "    .dataframe thead th {\n",
       "        text-align: right;\n",
       "    }\n",
       "</style>\n",
       "<table border=\"1\" class=\"dataframe\">\n",
       "  <thead>\n",
       "    <tr style=\"text-align: right;\">\n",
       "      <th></th>\n",
       "      <th>Age</th>\n",
       "      <th>Gender</th>\n",
       "      <th>AnnualIncome</th>\n",
       "      <th>NumberOfPurchases</th>\n",
       "      <th>ProductCategory</th>\n",
       "      <th>TimeSpentOnWebsite</th>\n",
       "      <th>LoyaltyProgram</th>\n",
       "      <th>DiscountsAvailed</th>\n",
       "      <th>PurchaseStatus</th>\n",
       "    </tr>\n",
       "  </thead>\n",
       "  <tbody>\n",
       "    <tr>\n",
       "      <th>0</th>\n",
       "      <td>False</td>\n",
       "      <td>False</td>\n",
       "      <td>False</td>\n",
       "      <td>False</td>\n",
       "      <td>False</td>\n",
       "      <td>False</td>\n",
       "      <td>False</td>\n",
       "      <td>False</td>\n",
       "      <td>False</td>\n",
       "    </tr>\n",
       "    <tr>\n",
       "      <th>1</th>\n",
       "      <td>False</td>\n",
       "      <td>False</td>\n",
       "      <td>False</td>\n",
       "      <td>False</td>\n",
       "      <td>False</td>\n",
       "      <td>False</td>\n",
       "      <td>False</td>\n",
       "      <td>False</td>\n",
       "      <td>False</td>\n",
       "    </tr>\n",
       "    <tr>\n",
       "      <th>2</th>\n",
       "      <td>False</td>\n",
       "      <td>False</td>\n",
       "      <td>False</td>\n",
       "      <td>False</td>\n",
       "      <td>False</td>\n",
       "      <td>False</td>\n",
       "      <td>False</td>\n",
       "      <td>False</td>\n",
       "      <td>False</td>\n",
       "    </tr>\n",
       "    <tr>\n",
       "      <th>3</th>\n",
       "      <td>False</td>\n",
       "      <td>False</td>\n",
       "      <td>False</td>\n",
       "      <td>False</td>\n",
       "      <td>False</td>\n",
       "      <td>False</td>\n",
       "      <td>False</td>\n",
       "      <td>False</td>\n",
       "      <td>False</td>\n",
       "    </tr>\n",
       "    <tr>\n",
       "      <th>4</th>\n",
       "      <td>False</td>\n",
       "      <td>False</td>\n",
       "      <td>False</td>\n",
       "      <td>False</td>\n",
       "      <td>False</td>\n",
       "      <td>False</td>\n",
       "      <td>False</td>\n",
       "      <td>False</td>\n",
       "      <td>False</td>\n",
       "    </tr>\n",
       "    <tr>\n",
       "      <th>5</th>\n",
       "      <td>False</td>\n",
       "      <td>False</td>\n",
       "      <td>False</td>\n",
       "      <td>False</td>\n",
       "      <td>False</td>\n",
       "      <td>False</td>\n",
       "      <td>False</td>\n",
       "      <td>False</td>\n",
       "      <td>False</td>\n",
       "    </tr>\n",
       "    <tr>\n",
       "      <th>6</th>\n",
       "      <td>False</td>\n",
       "      <td>False</td>\n",
       "      <td>False</td>\n",
       "      <td>False</td>\n",
       "      <td>False</td>\n",
       "      <td>False</td>\n",
       "      <td>False</td>\n",
       "      <td>False</td>\n",
       "      <td>False</td>\n",
       "    </tr>\n",
       "    <tr>\n",
       "      <th>7</th>\n",
       "      <td>False</td>\n",
       "      <td>False</td>\n",
       "      <td>False</td>\n",
       "      <td>False</td>\n",
       "      <td>False</td>\n",
       "      <td>False</td>\n",
       "      <td>False</td>\n",
       "      <td>False</td>\n",
       "      <td>False</td>\n",
       "    </tr>\n",
       "    <tr>\n",
       "      <th>8</th>\n",
       "      <td>False</td>\n",
       "      <td>False</td>\n",
       "      <td>False</td>\n",
       "      <td>False</td>\n",
       "      <td>False</td>\n",
       "      <td>False</td>\n",
       "      <td>False</td>\n",
       "      <td>False</td>\n",
       "      <td>False</td>\n",
       "    </tr>\n",
       "    <tr>\n",
       "      <th>9</th>\n",
       "      <td>False</td>\n",
       "      <td>False</td>\n",
       "      <td>False</td>\n",
       "      <td>False</td>\n",
       "      <td>False</td>\n",
       "      <td>False</td>\n",
       "      <td>False</td>\n",
       "      <td>False</td>\n",
       "      <td>False</td>\n",
       "    </tr>\n",
       "  </tbody>\n",
       "</table>\n",
       "</div>"
      ],
      "text/plain": [
       "     Age  Gender  AnnualIncome  NumberOfPurchases  ProductCategory  \\\n",
       "0  False   False         False              False            False   \n",
       "1  False   False         False              False            False   \n",
       "2  False   False         False              False            False   \n",
       "3  False   False         False              False            False   \n",
       "4  False   False         False              False            False   \n",
       "5  False   False         False              False            False   \n",
       "6  False   False         False              False            False   \n",
       "7  False   False         False              False            False   \n",
       "8  False   False         False              False            False   \n",
       "9  False   False         False              False            False   \n",
       "\n",
       "   TimeSpentOnWebsite  LoyaltyProgram  DiscountsAvailed  PurchaseStatus  \n",
       "0               False           False             False           False  \n",
       "1               False           False             False           False  \n",
       "2               False           False             False           False  \n",
       "3               False           False             False           False  \n",
       "4               False           False             False           False  \n",
       "5               False           False             False           False  \n",
       "6               False           False             False           False  \n",
       "7               False           False             False           False  \n",
       "8               False           False             False           False  \n",
       "9               False           False             False           False  "
      ]
     },
     "execution_count": 8,
     "metadata": {},
     "output_type": "execute_result"
    }
   ],
   "source": [
    "dt.isnull().head(10) #To find null_values"
   ]
  },
  {
   "cell_type": "code",
   "execution_count": 11,
   "id": "4b2441b6-ea12-4b6b-8568-6aec9339d864",
   "metadata": {},
   "outputs": [
    {
     "data": {
      "text/plain": [
       "Age                   0\n",
       "Gender                0\n",
       "AnnualIncome          0\n",
       "NumberOfPurchases     0\n",
       "ProductCategory       0\n",
       "TimeSpentOnWebsite    0\n",
       "LoyaltyProgram        0\n",
       "DiscountsAvailed      0\n",
       "PurchaseStatus        0\n",
       "dtype: int64"
      ]
     },
     "execution_count": 11,
     "metadata": {},
     "output_type": "execute_result"
    }
   ],
   "source": [
    "dt.isna().sum()"
   ]
  },
  {
   "cell_type": "code",
   "execution_count": 9,
   "id": "837dce48-58fb-493b-a06a-f6e92547c276",
   "metadata": {},
   "outputs": [
    {
     "data": {
      "text/plain": [
       "Age                   False\n",
       "Gender                False\n",
       "AnnualIncome          False\n",
       "NumberOfPurchases     False\n",
       "ProductCategory       False\n",
       "TimeSpentOnWebsite    False\n",
       "LoyaltyProgram        False\n",
       "DiscountsAvailed      False\n",
       "PurchaseStatus        False\n",
       "dtype: bool"
      ]
     },
     "execution_count": 9,
     "metadata": {},
     "output_type": "execute_result"
    }
   ],
   "source": [
    "dt.isnull().any()"
   ]
  },
  {
   "cell_type": "code",
   "execution_count": 68,
   "id": "6e55c609-677f-4bc6-911b-2d7d56a035cf",
   "metadata": {},
   "outputs": [
    {
     "data": {
      "text/html": [
       "<div>\n",
       "<style scoped>\n",
       "    .dataframe tbody tr th:only-of-type {\n",
       "        vertical-align: middle;\n",
       "    }\n",
       "\n",
       "    .dataframe tbody tr th {\n",
       "        vertical-align: top;\n",
       "    }\n",
       "\n",
       "    .dataframe thead th {\n",
       "        text-align: right;\n",
       "    }\n",
       "</style>\n",
       "<table border=\"1\" class=\"dataframe\">\n",
       "  <thead>\n",
       "    <tr style=\"text-align: right;\">\n",
       "      <th></th>\n",
       "      <th>Age</th>\n",
       "      <th>Gender</th>\n",
       "      <th>AnnualIncome</th>\n",
       "      <th>NumberOfPurchases</th>\n",
       "      <th>ProductCategory</th>\n",
       "      <th>TimeSpentOnWebsite</th>\n",
       "      <th>LoyaltyProgram</th>\n",
       "      <th>DiscountsAvailed</th>\n",
       "      <th>PurchaseView</th>\n",
       "    </tr>\n",
       "  </thead>\n",
       "  <tbody>\n",
       "    <tr>\n",
       "      <th>0</th>\n",
       "      <td>40</td>\n",
       "      <td>1</td>\n",
       "      <td>66120.267939</td>\n",
       "      <td>8</td>\n",
       "      <td>0</td>\n",
       "      <td>30.568601</td>\n",
       "      <td>0</td>\n",
       "      <td>5</td>\n",
       "      <td>1</td>\n",
       "    </tr>\n",
       "    <tr>\n",
       "      <th>1</th>\n",
       "      <td>20</td>\n",
       "      <td>1</td>\n",
       "      <td>23579.773583</td>\n",
       "      <td>4</td>\n",
       "      <td>2</td>\n",
       "      <td>38.240097</td>\n",
       "      <td>0</td>\n",
       "      <td>5</td>\n",
       "      <td>0</td>\n",
       "    </tr>\n",
       "    <tr>\n",
       "      <th>2</th>\n",
       "      <td>27</td>\n",
       "      <td>1</td>\n",
       "      <td>127821.306432</td>\n",
       "      <td>11</td>\n",
       "      <td>2</td>\n",
       "      <td>31.633212</td>\n",
       "      <td>1</td>\n",
       "      <td>0</td>\n",
       "      <td>1</td>\n",
       "    </tr>\n",
       "    <tr>\n",
       "      <th>3</th>\n",
       "      <td>24</td>\n",
       "      <td>1</td>\n",
       "      <td>137798.623120</td>\n",
       "      <td>19</td>\n",
       "      <td>3</td>\n",
       "      <td>46.167059</td>\n",
       "      <td>0</td>\n",
       "      <td>4</td>\n",
       "      <td>1</td>\n",
       "    </tr>\n",
       "    <tr>\n",
       "      <th>4</th>\n",
       "      <td>31</td>\n",
       "      <td>1</td>\n",
       "      <td>99300.964220</td>\n",
       "      <td>19</td>\n",
       "      <td>1</td>\n",
       "      <td>19.823592</td>\n",
       "      <td>0</td>\n",
       "      <td>0</td>\n",
       "      <td>1</td>\n",
       "    </tr>\n",
       "    <tr>\n",
       "      <th>...</th>\n",
       "      <td>...</td>\n",
       "      <td>...</td>\n",
       "      <td>...</td>\n",
       "      <td>...</td>\n",
       "      <td>...</td>\n",
       "      <td>...</td>\n",
       "      <td>...</td>\n",
       "      <td>...</td>\n",
       "      <td>...</td>\n",
       "    </tr>\n",
       "    <tr>\n",
       "      <th>1495</th>\n",
       "      <td>39</td>\n",
       "      <td>1</td>\n",
       "      <td>65048.141834</td>\n",
       "      <td>13</td>\n",
       "      <td>0</td>\n",
       "      <td>34.590743</td>\n",
       "      <td>0</td>\n",
       "      <td>5</td>\n",
       "      <td>1</td>\n",
       "    </tr>\n",
       "    <tr>\n",
       "      <th>1496</th>\n",
       "      <td>67</td>\n",
       "      <td>1</td>\n",
       "      <td>28775.331069</td>\n",
       "      <td>18</td>\n",
       "      <td>2</td>\n",
       "      <td>17.625707</td>\n",
       "      <td>0</td>\n",
       "      <td>1</td>\n",
       "      <td>1</td>\n",
       "    </tr>\n",
       "    <tr>\n",
       "      <th>1497</th>\n",
       "      <td>40</td>\n",
       "      <td>1</td>\n",
       "      <td>57363.247541</td>\n",
       "      <td>7</td>\n",
       "      <td>4</td>\n",
       "      <td>12.206033</td>\n",
       "      <td>0</td>\n",
       "      <td>0</td>\n",
       "      <td>0</td>\n",
       "    </tr>\n",
       "    <tr>\n",
       "      <th>1498</th>\n",
       "      <td>63</td>\n",
       "      <td>0</td>\n",
       "      <td>134021.775532</td>\n",
       "      <td>16</td>\n",
       "      <td>2</td>\n",
       "      <td>37.311634</td>\n",
       "      <td>1</td>\n",
       "      <td>0</td>\n",
       "      <td>1</td>\n",
       "    </tr>\n",
       "    <tr>\n",
       "      <th>1499</th>\n",
       "      <td>50</td>\n",
       "      <td>0</td>\n",
       "      <td>52625.665974</td>\n",
       "      <td>13</td>\n",
       "      <td>0</td>\n",
       "      <td>25.348017</td>\n",
       "      <td>1</td>\n",
       "      <td>4</td>\n",
       "      <td>1</td>\n",
       "    </tr>\n",
       "  </tbody>\n",
       "</table>\n",
       "<p>1388 rows × 9 columns</p>\n",
       "</div>"
      ],
      "text/plain": [
       "      Age  Gender   AnnualIncome  NumberOfPurchases  ProductCategory  \\\n",
       "0      40       1   66120.267939                  8                0   \n",
       "1      20       1   23579.773583                  4                2   \n",
       "2      27       1  127821.306432                 11                2   \n",
       "3      24       1  137798.623120                 19                3   \n",
       "4      31       1   99300.964220                 19                1   \n",
       "...   ...     ...            ...                ...              ...   \n",
       "1495   39       1   65048.141834                 13                0   \n",
       "1496   67       1   28775.331069                 18                2   \n",
       "1497   40       1   57363.247541                  7                4   \n",
       "1498   63       0  134021.775532                 16                2   \n",
       "1499   50       0   52625.665974                 13                0   \n",
       "\n",
       "      TimeSpentOnWebsite  LoyaltyProgram  DiscountsAvailed  PurchaseView  \n",
       "0              30.568601               0                 5             1  \n",
       "1              38.240097               0                 5             0  \n",
       "2              31.633212               1                 0             1  \n",
       "3              46.167059               0                 4             1  \n",
       "4              19.823592               0                 0             1  \n",
       "...                  ...             ...               ...           ...  \n",
       "1495           34.590743               0                 5             1  \n",
       "1496           17.625707               0                 1             1  \n",
       "1497           12.206033               0                 0             0  \n",
       "1498           37.311634               1                 0             1  \n",
       "1499           25.348017               1                 4             1  \n",
       "\n",
       "[1388 rows x 9 columns]"
      ]
     },
     "execution_count": 68,
     "metadata": {},
     "output_type": "execute_result"
    }
   ],
   "source": [
    "dt.drop_duplicates()"
   ]
  },
  {
   "cell_type": "code",
   "execution_count": 39,
   "id": "f2cf96bc-bb47-43ae-93b8-a0356608c895",
   "metadata": {},
   "outputs": [
    {
     "data": {
      "text/html": [
       "<div>\n",
       "<style scoped>\n",
       "    .dataframe tbody tr th:only-of-type {\n",
       "        vertical-align: middle;\n",
       "    }\n",
       "\n",
       "    .dataframe tbody tr th {\n",
       "        vertical-align: top;\n",
       "    }\n",
       "\n",
       "    .dataframe thead th {\n",
       "        text-align: right;\n",
       "    }\n",
       "</style>\n",
       "<table border=\"1\" class=\"dataframe\">\n",
       "  <thead>\n",
       "    <tr style=\"text-align: right;\">\n",
       "      <th></th>\n",
       "      <th>Age</th>\n",
       "      <th>Gender</th>\n",
       "      <th>AnnualIncome</th>\n",
       "      <th>NumberOfPurchases</th>\n",
       "      <th>ProductCategory</th>\n",
       "      <th>TimeSpentOnWebsite</th>\n",
       "      <th>LoyaltyProgram</th>\n",
       "      <th>PurchaseStatus</th>\n",
       "    </tr>\n",
       "  </thead>\n",
       "  <tbody>\n",
       "    <tr>\n",
       "      <th>0</th>\n",
       "      <td>40</td>\n",
       "      <td>1</td>\n",
       "      <td>66120.267939</td>\n",
       "      <td>8</td>\n",
       "      <td>0</td>\n",
       "      <td>30.568601</td>\n",
       "      <td>0</td>\n",
       "      <td>1</td>\n",
       "    </tr>\n",
       "    <tr>\n",
       "      <th>1</th>\n",
       "      <td>20</td>\n",
       "      <td>1</td>\n",
       "      <td>23579.773583</td>\n",
       "      <td>4</td>\n",
       "      <td>2</td>\n",
       "      <td>38.240097</td>\n",
       "      <td>0</td>\n",
       "      <td>0</td>\n",
       "    </tr>\n",
       "    <tr>\n",
       "      <th>2</th>\n",
       "      <td>27</td>\n",
       "      <td>1</td>\n",
       "      <td>127821.306432</td>\n",
       "      <td>11</td>\n",
       "      <td>2</td>\n",
       "      <td>31.633212</td>\n",
       "      <td>1</td>\n",
       "      <td>1</td>\n",
       "    </tr>\n",
       "    <tr>\n",
       "      <th>3</th>\n",
       "      <td>24</td>\n",
       "      <td>1</td>\n",
       "      <td>137798.623120</td>\n",
       "      <td>19</td>\n",
       "      <td>3</td>\n",
       "      <td>46.167059</td>\n",
       "      <td>0</td>\n",
       "      <td>1</td>\n",
       "    </tr>\n",
       "    <tr>\n",
       "      <th>4</th>\n",
       "      <td>31</td>\n",
       "      <td>1</td>\n",
       "      <td>99300.964220</td>\n",
       "      <td>19</td>\n",
       "      <td>1</td>\n",
       "      <td>19.823592</td>\n",
       "      <td>0</td>\n",
       "      <td>1</td>\n",
       "    </tr>\n",
       "    <tr>\n",
       "      <th>...</th>\n",
       "      <td>...</td>\n",
       "      <td>...</td>\n",
       "      <td>...</td>\n",
       "      <td>...</td>\n",
       "      <td>...</td>\n",
       "      <td>...</td>\n",
       "      <td>...</td>\n",
       "      <td>...</td>\n",
       "    </tr>\n",
       "    <tr>\n",
       "      <th>1495</th>\n",
       "      <td>39</td>\n",
       "      <td>1</td>\n",
       "      <td>65048.141834</td>\n",
       "      <td>13</td>\n",
       "      <td>0</td>\n",
       "      <td>34.590743</td>\n",
       "      <td>0</td>\n",
       "      <td>1</td>\n",
       "    </tr>\n",
       "    <tr>\n",
       "      <th>1496</th>\n",
       "      <td>67</td>\n",
       "      <td>1</td>\n",
       "      <td>28775.331069</td>\n",
       "      <td>18</td>\n",
       "      <td>2</td>\n",
       "      <td>17.625707</td>\n",
       "      <td>0</td>\n",
       "      <td>1</td>\n",
       "    </tr>\n",
       "    <tr>\n",
       "      <th>1497</th>\n",
       "      <td>40</td>\n",
       "      <td>1</td>\n",
       "      <td>57363.247541</td>\n",
       "      <td>7</td>\n",
       "      <td>4</td>\n",
       "      <td>12.206033</td>\n",
       "      <td>0</td>\n",
       "      <td>0</td>\n",
       "    </tr>\n",
       "    <tr>\n",
       "      <th>1498</th>\n",
       "      <td>63</td>\n",
       "      <td>0</td>\n",
       "      <td>134021.775532</td>\n",
       "      <td>16</td>\n",
       "      <td>2</td>\n",
       "      <td>37.311634</td>\n",
       "      <td>1</td>\n",
       "      <td>1</td>\n",
       "    </tr>\n",
       "    <tr>\n",
       "      <th>1499</th>\n",
       "      <td>50</td>\n",
       "      <td>0</td>\n",
       "      <td>52625.665974</td>\n",
       "      <td>13</td>\n",
       "      <td>0</td>\n",
       "      <td>25.348017</td>\n",
       "      <td>1</td>\n",
       "      <td>1</td>\n",
       "    </tr>\n",
       "  </tbody>\n",
       "</table>\n",
       "<p>1388 rows × 8 columns</p>\n",
       "</div>"
      ],
      "text/plain": [
       "      Age  Gender   AnnualIncome  NumberOfPurchases  ProductCategory  \\\n",
       "0      40       1   66120.267939                  8                0   \n",
       "1      20       1   23579.773583                  4                2   \n",
       "2      27       1  127821.306432                 11                2   \n",
       "3      24       1  137798.623120                 19                3   \n",
       "4      31       1   99300.964220                 19                1   \n",
       "...   ...     ...            ...                ...              ...   \n",
       "1495   39       1   65048.141834                 13                0   \n",
       "1496   67       1   28775.331069                 18                2   \n",
       "1497   40       1   57363.247541                  7                4   \n",
       "1498   63       0  134021.775532                 16                2   \n",
       "1499   50       0   52625.665974                 13                0   \n",
       "\n",
       "      TimeSpentOnWebsite  LoyaltyProgram  PurchaseStatus  \n",
       "0              30.568601               0               1  \n",
       "1              38.240097               0               0  \n",
       "2              31.633212               1               1  \n",
       "3              46.167059               0               1  \n",
       "4              19.823592               0               1  \n",
       "...                  ...             ...             ...  \n",
       "1495           34.590743               0               1  \n",
       "1496           17.625707               0               1  \n",
       "1497           12.206033               0               0  \n",
       "1498           37.311634               1               1  \n",
       "1499           25.348017               1               1  \n",
       "\n",
       "[1388 rows x 8 columns]"
      ]
     },
     "execution_count": 39,
     "metadata": {},
     "output_type": "execute_result"
    }
   ],
   "source": [
    "dt.drop(columns = \"DiscountsAvailed\")"
   ]
  },
  {
   "cell_type": "markdown",
   "id": "2b4f09b6-fd8d-4504-8f18-3306811101d5",
   "metadata": {},
   "source": [
    "# Data Analysis"
   ]
  },
  {
   "cell_type": "code",
   "execution_count": 10,
   "id": "0cab346c-750f-4593-b80f-bf77799a780c",
   "metadata": {},
   "outputs": [
    {
     "data": {
      "text/plain": [
       "0    30.568601\n",
       "1    38.240097\n",
       "2    31.633212\n",
       "3    46.167059\n",
       "4    19.823592\n",
       "5    17.827493\n",
       "6    42.085384\n",
       "7    17.190292\n",
       "8     6.023475\n",
       "9    38.572466\n",
       "Name: TimeSpentOnWebsite, dtype: float64"
      ]
     },
     "execution_count": 10,
     "metadata": {},
     "output_type": "execute_result"
    }
   ],
   "source": [
    "dt['TimeSpentOnWebsite'].head(10)"
   ]
  },
  {
   "cell_type": "code",
   "execution_count": null,
   "id": "566a91aa-e5f1-4100-b040-11f27e566f1d",
   "metadata": {},
   "outputs": [],
   "source": []
  },
  {
   "cell_type": "markdown",
   "id": "556e927c-d320-4f44-987d-5676c08cd53a",
   "metadata": {},
   "source": [
    "# nunique()"
   ]
  },
  {
   "cell_type": "code",
   "execution_count": 16,
   "id": "5b6c7852-9205-420e-bfb0-46fb6477e107",
   "metadata": {},
   "outputs": [
    {
     "data": {
      "text/plain": [
       "6"
      ]
     },
     "execution_count": 16,
     "metadata": {},
     "output_type": "execute_result"
    }
   ],
   "source": [
    "#To find total number of unique valuse present in column DiscountsAvailed.\n",
    "dt.DiscountsAvailed.nunique()"
   ]
  },
  {
   "cell_type": "code",
   "execution_count": 13,
   "id": "fe1447b6-adba-4b07-a152-d3b40f9bf4aa",
   "metadata": {},
   "outputs": [
    {
     "data": {
      "text/plain": [
       "5"
      ]
     },
     "execution_count": 13,
     "metadata": {},
     "output_type": "execute_result"
    }
   ],
   "source": [
    "dt[\"ProductCategory\"].nunique()"
   ]
  },
  {
   "cell_type": "markdown",
   "id": "b7cbf0f5-e754-4c48-80a8-e374425d0dac",
   "metadata": {},
   "source": [
    "# unique"
   ]
  },
  {
   "cell_type": "code",
   "execution_count": 17,
   "id": "63501176-a232-4cbf-ae08-ba8dbbde10af",
   "metadata": {},
   "outputs": [
    {
     "data": {
      "text/plain": [
       "array([5, 0, 4, 2, 3, 1], dtype=int64)"
      ]
     },
     "execution_count": 17,
     "metadata": {},
     "output_type": "execute_result"
    }
   ],
   "source": [
    "#To find all uique values\n",
    "dt.DiscountsAvailed.unique()"
   ]
  },
  {
   "cell_type": "code",
   "execution_count": 15,
   "id": "18aef96c-b2e0-465d-b62e-adb2423e3e8d",
   "metadata": {},
   "outputs": [
    {
     "data": {
      "text/plain": [
       "array([0, 2, 3, 1, 4], dtype=int64)"
      ]
     },
     "execution_count": 15,
     "metadata": {},
     "output_type": "execute_result"
    }
   ],
   "source": [
    "dt[\"ProductCategory\"].unique()  #(0: Electronics, 1: Clothing, 2: Home Goods, 3: Beauty, 4: Sports)"
   ]
  },
  {
   "cell_type": "markdown",
   "id": "5d387f73-8ede-4b48-88d4-c10d70920b58",
   "metadata": {},
   "source": [
    "# Value_count()"
   ]
  },
  {
   "cell_type": "code",
   "execution_count": 31,
   "id": "c1b751f4-4f30-4a7c-a205-8eb57115e3ec",
   "metadata": {},
   "outputs": [
    {
     "data": {
      "text/plain": [
       "Age  Gender  AnnualIncome   NumberOfPurchases  ProductCategory  TimeSpentOnWebsite  LoyaltyProgram  DiscountsAvailed  PurchaseStatus\n",
       "64   1       62207.870496   2                  0                41.937927           0               0                 0                 2\n",
       "41   1       108740.238759  8                  1                37.698542           0               0                 0                 2\n",
       "22   0       87622.086000   2                  1                24.942913           0               2                 0                 2\n",
       "53   1       135718.347861  3                  2                43.738795           0               1                 0                 2\n",
       "66   1       77089.476162   3                  4                51.093582           1               2                 0                 2\n",
       "                                                                                                                                       ..\n",
       "36   0       87788.373142   14                 1                37.396201           0               1                 1                 1\n",
       "             68244.681996   19                 2                1.555772            1               3                 1                 1\n",
       "             51446.197674   6                  3                3.044392            1               2                 1                 1\n",
       "             49670.597254   19                 4                35.820076           0               2                 0                 1\n",
       "70   1       144468.242475  11                 4                46.720780           0               2                 0                 1\n",
       "Name: count, Length: 1388, dtype: int64"
      ]
     },
     "execution_count": 31,
     "metadata": {},
     "output_type": "execute_result"
    }
   ],
   "source": [
    "dt.value_counts() # To check the count of dataframe"
   ]
  },
  {
   "cell_type": "code",
   "execution_count": 22,
   "id": "54f0fc99-5d2b-49b1-9d69-3aba1817f760",
   "metadata": {},
   "outputs": [
    {
     "data": {
      "text/plain": [
       "DiscountsAvailed\n",
       "3    265\n",
       "5    258\n",
       "4    258\n",
       "1    242\n",
       "0    240\n",
       "2    237\n",
       "Name: count, dtype: int64"
      ]
     },
     "execution_count": 22,
     "metadata": {},
     "output_type": "execute_result"
    }
   ],
   "source": [
    "#To check the count of each discount avaliable in column.\n",
    "dt.DiscountsAvailed.value_counts()"
   ]
  },
  {
   "cell_type": "code",
   "execution_count": 41,
   "id": "7294b291-ae81-414a-972c-6f415cac5050",
   "metadata": {},
   "outputs": [
    {
     "data": {
      "text/plain": [
       "ProductCategory\n",
       "1    306\n",
       "4    289\n",
       "3    270\n",
       "0    269\n",
       "2    254\n",
       "Name: count, dtype: int64"
      ]
     },
     "execution_count": 41,
     "metadata": {},
     "output_type": "execute_result"
    }
   ],
   "source": [
    "dt[\"ProductCategory\"].value_counts()"
   ]
  },
  {
   "cell_type": "code",
   "execution_count": 43,
   "id": "6b438bd2-12a7-47b1-bac7-b6975e0b5c4e",
   "metadata": {},
   "outputs": [],
   "source": [
    "dt.rename(columns={\"Age\":\"CustomerAge\"},inplace =True)"
   ]
  },
  {
   "cell_type": "code",
   "execution_count": null,
   "id": "2ff0427a-cff2-468d-82a4-24ec7751799d",
   "metadata": {},
   "outputs": [],
   "source": []
  },
  {
   "cell_type": "code",
   "execution_count": 76,
   "id": "dd77946d-a6ad-4473-aff7-74da211dc8c2",
   "metadata": {},
   "outputs": [
    {
     "name": "stdout",
     "output_type": "stream",
     "text": [
      "571\n"
     ]
    }
   ],
   "source": [
    "dt = dt['AnnualIncome']\n",
    "X=0\n",
    "for i in dt:\n",
    "    if i >= 100000:\n",
    "        X+=1\n",
    "print(X)"
   ]
  },
  {
   "cell_type": "code",
   "execution_count": 83,
   "id": "a0278fda-3480-40fd-bd1d-04db416a68ab",
   "metadata": {},
   "outputs": [
    {
     "data": {
      "text/html": [
       "<div>\n",
       "<style scoped>\n",
       "    .dataframe tbody tr th:only-of-type {\n",
       "        vertical-align: middle;\n",
       "    }\n",
       "\n",
       "    .dataframe tbody tr th {\n",
       "        vertical-align: top;\n",
       "    }\n",
       "\n",
       "    .dataframe thead th {\n",
       "        text-align: right;\n",
       "    }\n",
       "</style>\n",
       "<table border=\"1\" class=\"dataframe\">\n",
       "  <thead>\n",
       "    <tr style=\"text-align: right;\">\n",
       "      <th></th>\n",
       "      <th>Age</th>\n",
       "      <th>Gender</th>\n",
       "      <th>AnnualIncome</th>\n",
       "      <th>NumberOfPurchases</th>\n",
       "      <th>ProductCategory</th>\n",
       "      <th>TimeSpentOnWebsite</th>\n",
       "      <th>LoyaltyProgram</th>\n",
       "      <th>DiscountsAvailed</th>\n",
       "      <th>PurchaseStatus</th>\n",
       "    </tr>\n",
       "  </thead>\n",
       "  <tbody>\n",
       "    <tr>\n",
       "      <th>20</th>\n",
       "      <td>59</td>\n",
       "      <td>0</td>\n",
       "      <td>92768.238873</td>\n",
       "      <td>3</td>\n",
       "      <td>2</td>\n",
       "      <td>1.037023</td>\n",
       "      <td>0</td>\n",
       "      <td>5</td>\n",
       "      <td>0</td>\n",
       "    </tr>\n",
       "    <tr>\n",
       "      <th>91</th>\n",
       "      <td>43</td>\n",
       "      <td>0</td>\n",
       "      <td>118837.677006</td>\n",
       "      <td>3</td>\n",
       "      <td>1</td>\n",
       "      <td>8.367335</td>\n",
       "      <td>1</td>\n",
       "      <td>0</td>\n",
       "      <td>0</td>\n",
       "    </tr>\n",
       "    <tr>\n",
       "      <th>100</th>\n",
       "      <td>54</td>\n",
       "      <td>1</td>\n",
       "      <td>90906.143023</td>\n",
       "      <td>3</td>\n",
       "      <td>1</td>\n",
       "      <td>51.630197</td>\n",
       "      <td>1</td>\n",
       "      <td>0</td>\n",
       "      <td>0</td>\n",
       "    </tr>\n",
       "    <tr>\n",
       "      <th>102</th>\n",
       "      <td>54</td>\n",
       "      <td>0</td>\n",
       "      <td>28320.825059</td>\n",
       "      <td>3</td>\n",
       "      <td>1</td>\n",
       "      <td>47.315403</td>\n",
       "      <td>1</td>\n",
       "      <td>4</td>\n",
       "      <td>1</td>\n",
       "    </tr>\n",
       "    <tr>\n",
       "      <th>173</th>\n",
       "      <td>52</td>\n",
       "      <td>0</td>\n",
       "      <td>79310.746164</td>\n",
       "      <td>3</td>\n",
       "      <td>2</td>\n",
       "      <td>11.409946</td>\n",
       "      <td>0</td>\n",
       "      <td>0</td>\n",
       "      <td>0</td>\n",
       "    </tr>\n",
       "    <tr>\n",
       "      <th>...</th>\n",
       "      <td>...</td>\n",
       "      <td>...</td>\n",
       "      <td>...</td>\n",
       "      <td>...</td>\n",
       "      <td>...</td>\n",
       "      <td>...</td>\n",
       "      <td>...</td>\n",
       "      <td>...</td>\n",
       "      <td>...</td>\n",
       "    </tr>\n",
       "    <tr>\n",
       "      <th>1399</th>\n",
       "      <td>66</td>\n",
       "      <td>1</td>\n",
       "      <td>77089.476162</td>\n",
       "      <td>3</td>\n",
       "      <td>4</td>\n",
       "      <td>51.093582</td>\n",
       "      <td>1</td>\n",
       "      <td>2</td>\n",
       "      <td>0</td>\n",
       "    </tr>\n",
       "    <tr>\n",
       "      <th>1409</th>\n",
       "      <td>53</td>\n",
       "      <td>1</td>\n",
       "      <td>135718.347861</td>\n",
       "      <td>3</td>\n",
       "      <td>2</td>\n",
       "      <td>43.738795</td>\n",
       "      <td>0</td>\n",
       "      <td>1</td>\n",
       "      <td>0</td>\n",
       "    </tr>\n",
       "    <tr>\n",
       "      <th>1434</th>\n",
       "      <td>45</td>\n",
       "      <td>0</td>\n",
       "      <td>72980.594034</td>\n",
       "      <td>3</td>\n",
       "      <td>1</td>\n",
       "      <td>23.341778</td>\n",
       "      <td>0</td>\n",
       "      <td>3</td>\n",
       "      <td>0</td>\n",
       "    </tr>\n",
       "    <tr>\n",
       "      <th>1452</th>\n",
       "      <td>29</td>\n",
       "      <td>1</td>\n",
       "      <td>21521.859395</td>\n",
       "      <td>3</td>\n",
       "      <td>0</td>\n",
       "      <td>33.853483</td>\n",
       "      <td>0</td>\n",
       "      <td>2</td>\n",
       "      <td>0</td>\n",
       "    </tr>\n",
       "    <tr>\n",
       "      <th>1456</th>\n",
       "      <td>33</td>\n",
       "      <td>0</td>\n",
       "      <td>142424.342510</td>\n",
       "      <td>3</td>\n",
       "      <td>1</td>\n",
       "      <td>23.642575</td>\n",
       "      <td>0</td>\n",
       "      <td>0</td>\n",
       "      <td>0</td>\n",
       "    </tr>\n",
       "  </tbody>\n",
       "</table>\n",
       "<p>75 rows × 9 columns</p>\n",
       "</div>"
      ],
      "text/plain": [
       "      Age  Gender   AnnualIncome  NumberOfPurchases  ProductCategory  \\\n",
       "20     59       0   92768.238873                  3                2   \n",
       "91     43       0  118837.677006                  3                1   \n",
       "100    54       1   90906.143023                  3                1   \n",
       "102    54       0   28320.825059                  3                1   \n",
       "173    52       0   79310.746164                  3                2   \n",
       "...   ...     ...            ...                ...              ...   \n",
       "1399   66       1   77089.476162                  3                4   \n",
       "1409   53       1  135718.347861                  3                2   \n",
       "1434   45       0   72980.594034                  3                1   \n",
       "1452   29       1   21521.859395                  3                0   \n",
       "1456   33       0  142424.342510                  3                1   \n",
       "\n",
       "      TimeSpentOnWebsite  LoyaltyProgram  DiscountsAvailed  PurchaseStatus  \n",
       "20              1.037023               0                 5               0  \n",
       "91              8.367335               1                 0               0  \n",
       "100            51.630197               1                 0               0  \n",
       "102            47.315403               1                 4               1  \n",
       "173            11.409946               0                 0               0  \n",
       "...                  ...             ...               ...             ...  \n",
       "1399           51.093582               1                 2               0  \n",
       "1409           43.738795               0                 1               0  \n",
       "1434           23.341778               0                 3               0  \n",
       "1452           33.853483               0                 2               0  \n",
       "1456           23.642575               0                 0               0  \n",
       "\n",
       "[75 rows x 9 columns]"
      ]
     },
     "execution_count": 83,
     "metadata": {},
     "output_type": "execute_result"
    }
   ],
   "source": [
    "#filtering\n",
    "\n",
    "dt[dt.NumberOfPurchases == 3 ]"
   ]
  },
  {
   "cell_type": "code",
   "execution_count": 38,
   "id": "ade56fc1-98ed-4c73-8c5f-8603662f947b",
   "metadata": {},
   "outputs": [
    {
     "data": {
      "text/html": [
       "<div>\n",
       "<style scoped>\n",
       "    .dataframe tbody tr th:only-of-type {\n",
       "        vertical-align: middle;\n",
       "    }\n",
       "\n",
       "    .dataframe tbody tr th {\n",
       "        vertical-align: top;\n",
       "    }\n",
       "\n",
       "    .dataframe thead th {\n",
       "        text-align: right;\n",
       "    }\n",
       "</style>\n",
       "<table border=\"1\" class=\"dataframe\">\n",
       "  <thead>\n",
       "    <tr style=\"text-align: right;\">\n",
       "      <th></th>\n",
       "      <th>Age</th>\n",
       "      <th>Gender</th>\n",
       "      <th>AnnualIncome</th>\n",
       "      <th>NumberOfPurchases</th>\n",
       "      <th>ProductCategory</th>\n",
       "      <th>TimeSpentOnWebsite</th>\n",
       "      <th>LoyaltyProgram</th>\n",
       "      <th>DiscountsAvailed</th>\n",
       "      <th>PurchaseStatus</th>\n",
       "    </tr>\n",
       "  </thead>\n",
       "  <tbody>\n",
       "    <tr>\n",
       "      <th>0</th>\n",
       "      <td>40</td>\n",
       "      <td>1</td>\n",
       "      <td>66120.267939</td>\n",
       "      <td>8</td>\n",
       "      <td>0</td>\n",
       "      <td>30.568601</td>\n",
       "      <td>0</td>\n",
       "      <td>5</td>\n",
       "      <td>1</td>\n",
       "    </tr>\n",
       "    <tr>\n",
       "      <th>1</th>\n",
       "      <td>20</td>\n",
       "      <td>1</td>\n",
       "      <td>23579.773583</td>\n",
       "      <td>4</td>\n",
       "      <td>2</td>\n",
       "      <td>38.240097</td>\n",
       "      <td>0</td>\n",
       "      <td>5</td>\n",
       "      <td>0</td>\n",
       "    </tr>\n",
       "    <tr>\n",
       "      <th>9</th>\n",
       "      <td>20</td>\n",
       "      <td>1</td>\n",
       "      <td>63854.921080</td>\n",
       "      <td>16</td>\n",
       "      <td>0</td>\n",
       "      <td>38.572466</td>\n",
       "      <td>0</td>\n",
       "      <td>5</td>\n",
       "      <td>1</td>\n",
       "    </tr>\n",
       "    <tr>\n",
       "      <th>10</th>\n",
       "      <td>66</td>\n",
       "      <td>1</td>\n",
       "      <td>66199.993929</td>\n",
       "      <td>11</td>\n",
       "      <td>1</td>\n",
       "      <td>1.415532</td>\n",
       "      <td>1</td>\n",
       "      <td>5</td>\n",
       "      <td>1</td>\n",
       "    </tr>\n",
       "    <tr>\n",
       "      <th>12</th>\n",
       "      <td>54</td>\n",
       "      <td>0</td>\n",
       "      <td>114467.228969</td>\n",
       "      <td>9</td>\n",
       "      <td>2</td>\n",
       "      <td>17.626044</td>\n",
       "      <td>1</td>\n",
       "      <td>5</td>\n",
       "      <td>1</td>\n",
       "    </tr>\n",
       "    <tr>\n",
       "      <th>...</th>\n",
       "      <td>...</td>\n",
       "      <td>...</td>\n",
       "      <td>...</td>\n",
       "      <td>...</td>\n",
       "      <td>...</td>\n",
       "      <td>...</td>\n",
       "      <td>...</td>\n",
       "      <td>...</td>\n",
       "      <td>...</td>\n",
       "    </tr>\n",
       "    <tr>\n",
       "      <th>1472</th>\n",
       "      <td>42</td>\n",
       "      <td>1</td>\n",
       "      <td>133175.195256</td>\n",
       "      <td>15</td>\n",
       "      <td>4</td>\n",
       "      <td>5.759516</td>\n",
       "      <td>0</td>\n",
       "      <td>5</td>\n",
       "      <td>0</td>\n",
       "    </tr>\n",
       "    <tr>\n",
       "      <th>1473</th>\n",
       "      <td>55</td>\n",
       "      <td>0</td>\n",
       "      <td>101221.902163</td>\n",
       "      <td>14</td>\n",
       "      <td>2</td>\n",
       "      <td>39.347174</td>\n",
       "      <td>1</td>\n",
       "      <td>5</td>\n",
       "      <td>1</td>\n",
       "    </tr>\n",
       "    <tr>\n",
       "      <th>1480</th>\n",
       "      <td>39</td>\n",
       "      <td>0</td>\n",
       "      <td>34204.347340</td>\n",
       "      <td>17</td>\n",
       "      <td>3</td>\n",
       "      <td>27.134110</td>\n",
       "      <td>0</td>\n",
       "      <td>5</td>\n",
       "      <td>0</td>\n",
       "    </tr>\n",
       "    <tr>\n",
       "      <th>1491</th>\n",
       "      <td>30</td>\n",
       "      <td>0</td>\n",
       "      <td>71611.955361</td>\n",
       "      <td>20</td>\n",
       "      <td>1</td>\n",
       "      <td>38.681686</td>\n",
       "      <td>0</td>\n",
       "      <td>5</td>\n",
       "      <td>1</td>\n",
       "    </tr>\n",
       "    <tr>\n",
       "      <th>1495</th>\n",
       "      <td>39</td>\n",
       "      <td>1</td>\n",
       "      <td>65048.141834</td>\n",
       "      <td>13</td>\n",
       "      <td>0</td>\n",
       "      <td>34.590743</td>\n",
       "      <td>0</td>\n",
       "      <td>5</td>\n",
       "      <td>1</td>\n",
       "    </tr>\n",
       "  </tbody>\n",
       "</table>\n",
       "<p>258 rows × 9 columns</p>\n",
       "</div>"
      ],
      "text/plain": [
       "      Age  Gender   AnnualIncome  NumberOfPurchases  ProductCategory  \\\n",
       "0      40       1   66120.267939                  8                0   \n",
       "1      20       1   23579.773583                  4                2   \n",
       "9      20       1   63854.921080                 16                0   \n",
       "10     66       1   66199.993929                 11                1   \n",
       "12     54       0  114467.228969                  9                2   \n",
       "...   ...     ...            ...                ...              ...   \n",
       "1472   42       1  133175.195256                 15                4   \n",
       "1473   55       0  101221.902163                 14                2   \n",
       "1480   39       0   34204.347340                 17                3   \n",
       "1491   30       0   71611.955361                 20                1   \n",
       "1495   39       1   65048.141834                 13                0   \n",
       "\n",
       "      TimeSpentOnWebsite  LoyaltyProgram  DiscountsAvailed  PurchaseStatus  \n",
       "0              30.568601               0                 5               1  \n",
       "1              38.240097               0                 5               0  \n",
       "9              38.572466               0                 5               1  \n",
       "10              1.415532               1                 5               1  \n",
       "12             17.626044               1                 5               1  \n",
       "...                  ...             ...               ...             ...  \n",
       "1472            5.759516               0                 5               0  \n",
       "1473           39.347174               1                 5               1  \n",
       "1480           27.134110               0                 5               0  \n",
       "1491           38.681686               0                 5               1  \n",
       "1495           34.590743               0                 5               1  \n",
       "\n",
       "[258 rows x 9 columns]"
      ]
     },
     "execution_count": 38,
     "metadata": {},
     "output_type": "execute_result"
    }
   ],
   "source": [
    "#To find DiscountsAvailed with 5\n",
    "dt.head(3)\n",
    "dt[dt['DiscountsAvailed'] == 5]"
   ]
  },
  {
   "cell_type": "code",
   "execution_count": 47,
   "id": "e0fd9d41-ce92-490c-902f-7d3912545e85",
   "metadata": {},
   "outputs": [
    {
     "data": {
      "text/html": [
       "<div>\n",
       "<style scoped>\n",
       "    .dataframe tbody tr th:only-of-type {\n",
       "        vertical-align: middle;\n",
       "    }\n",
       "\n",
       "    .dataframe tbody tr th {\n",
       "        vertical-align: top;\n",
       "    }\n",
       "\n",
       "    .dataframe thead th {\n",
       "        text-align: right;\n",
       "    }\n",
       "</style>\n",
       "<table border=\"1\" class=\"dataframe\">\n",
       "  <thead>\n",
       "    <tr style=\"text-align: right;\">\n",
       "      <th></th>\n",
       "      <th>Age</th>\n",
       "      <th>Gender</th>\n",
       "      <th>AnnualIncome</th>\n",
       "      <th>NumberOfPurchases</th>\n",
       "      <th>ProductCategory</th>\n",
       "      <th>TimeSpentOnWebsite</th>\n",
       "      <th>LoyaltyProgram</th>\n",
       "      <th>DiscountsAvailed</th>\n",
       "      <th>PurchaseView</th>\n",
       "    </tr>\n",
       "  </thead>\n",
       "  <tbody>\n",
       "    <tr>\n",
       "      <th>0</th>\n",
       "      <td>40</td>\n",
       "      <td>1</td>\n",
       "      <td>66120.267939</td>\n",
       "      <td>8</td>\n",
       "      <td>0</td>\n",
       "      <td>30.568601</td>\n",
       "      <td>0</td>\n",
       "      <td>5</td>\n",
       "      <td>1</td>\n",
       "    </tr>\n",
       "    <tr>\n",
       "      <th>1</th>\n",
       "      <td>20</td>\n",
       "      <td>1</td>\n",
       "      <td>23579.773583</td>\n",
       "      <td>4</td>\n",
       "      <td>2</td>\n",
       "      <td>38.240097</td>\n",
       "      <td>0</td>\n",
       "      <td>5</td>\n",
       "      <td>0</td>\n",
       "    </tr>\n",
       "    <tr>\n",
       "      <th>2</th>\n",
       "      <td>27</td>\n",
       "      <td>1</td>\n",
       "      <td>127821.306432</td>\n",
       "      <td>11</td>\n",
       "      <td>2</td>\n",
       "      <td>31.633212</td>\n",
       "      <td>1</td>\n",
       "      <td>0</td>\n",
       "      <td>1</td>\n",
       "    </tr>\n",
       "    <tr>\n",
       "      <th>3</th>\n",
       "      <td>24</td>\n",
       "      <td>1</td>\n",
       "      <td>137798.623120</td>\n",
       "      <td>19</td>\n",
       "      <td>3</td>\n",
       "      <td>46.167059</td>\n",
       "      <td>0</td>\n",
       "      <td>4</td>\n",
       "      <td>1</td>\n",
       "    </tr>\n",
       "    <tr>\n",
       "      <th>4</th>\n",
       "      <td>31</td>\n",
       "      <td>1</td>\n",
       "      <td>99300.964220</td>\n",
       "      <td>19</td>\n",
       "      <td>1</td>\n",
       "      <td>19.823592</td>\n",
       "      <td>0</td>\n",
       "      <td>0</td>\n",
       "      <td>1</td>\n",
       "    </tr>\n",
       "    <tr>\n",
       "      <th>...</th>\n",
       "      <td>...</td>\n",
       "      <td>...</td>\n",
       "      <td>...</td>\n",
       "      <td>...</td>\n",
       "      <td>...</td>\n",
       "      <td>...</td>\n",
       "      <td>...</td>\n",
       "      <td>...</td>\n",
       "      <td>...</td>\n",
       "    </tr>\n",
       "    <tr>\n",
       "      <th>1495</th>\n",
       "      <td>39</td>\n",
       "      <td>1</td>\n",
       "      <td>65048.141834</td>\n",
       "      <td>13</td>\n",
       "      <td>0</td>\n",
       "      <td>34.590743</td>\n",
       "      <td>0</td>\n",
       "      <td>5</td>\n",
       "      <td>1</td>\n",
       "    </tr>\n",
       "    <tr>\n",
       "      <th>1496</th>\n",
       "      <td>67</td>\n",
       "      <td>1</td>\n",
       "      <td>28775.331069</td>\n",
       "      <td>18</td>\n",
       "      <td>2</td>\n",
       "      <td>17.625707</td>\n",
       "      <td>0</td>\n",
       "      <td>1</td>\n",
       "      <td>1</td>\n",
       "    </tr>\n",
       "    <tr>\n",
       "      <th>1497</th>\n",
       "      <td>40</td>\n",
       "      <td>1</td>\n",
       "      <td>57363.247541</td>\n",
       "      <td>7</td>\n",
       "      <td>4</td>\n",
       "      <td>12.206033</td>\n",
       "      <td>0</td>\n",
       "      <td>0</td>\n",
       "      <td>0</td>\n",
       "    </tr>\n",
       "    <tr>\n",
       "      <th>1498</th>\n",
       "      <td>63</td>\n",
       "      <td>0</td>\n",
       "      <td>134021.775532</td>\n",
       "      <td>16</td>\n",
       "      <td>2</td>\n",
       "      <td>37.311634</td>\n",
       "      <td>1</td>\n",
       "      <td>0</td>\n",
       "      <td>1</td>\n",
       "    </tr>\n",
       "    <tr>\n",
       "      <th>1499</th>\n",
       "      <td>50</td>\n",
       "      <td>0</td>\n",
       "      <td>52625.665974</td>\n",
       "      <td>13</td>\n",
       "      <td>0</td>\n",
       "      <td>25.348017</td>\n",
       "      <td>1</td>\n",
       "      <td>4</td>\n",
       "      <td>1</td>\n",
       "    </tr>\n",
       "  </tbody>\n",
       "</table>\n",
       "<p>1500 rows × 9 columns</p>\n",
       "</div>"
      ],
      "text/plain": [
       "      Age  Gender   AnnualIncome  NumberOfPurchases  ProductCategory  \\\n",
       "0      40       1   66120.267939                  8                0   \n",
       "1      20       1   23579.773583                  4                2   \n",
       "2      27       1  127821.306432                 11                2   \n",
       "3      24       1  137798.623120                 19                3   \n",
       "4      31       1   99300.964220                 19                1   \n",
       "...   ...     ...            ...                ...              ...   \n",
       "1495   39       1   65048.141834                 13                0   \n",
       "1496   67       1   28775.331069                 18                2   \n",
       "1497   40       1   57363.247541                  7                4   \n",
       "1498   63       0  134021.775532                 16                2   \n",
       "1499   50       0   52625.665974                 13                0   \n",
       "\n",
       "      TimeSpentOnWebsite  LoyaltyProgram  DiscountsAvailed  PurchaseView  \n",
       "0              30.568601               0                 5             1  \n",
       "1              38.240097               0                 5             0  \n",
       "2              31.633212               1                 0             1  \n",
       "3              46.167059               0                 4             1  \n",
       "4              19.823592               0                 0             1  \n",
       "...                  ...             ...               ...           ...  \n",
       "1495           34.590743               0                 5             1  \n",
       "1496           17.625707               0                 1             1  \n",
       "1497           12.206033               0                 0             0  \n",
       "1498           37.311634               1                 0             1  \n",
       "1499           25.348017               1                 4             1  \n",
       "\n",
       "[1500 rows x 9 columns]"
      ]
     },
     "execution_count": 47,
     "metadata": {},
     "output_type": "execute_result"
    }
   ],
   "source": [
    "#Rename the column name\n",
    "dt.rename(columns = {'PurchaseStatus' : 'PurchaseView'})"
   ]
  },
  {
   "cell_type": "code",
   "execution_count": 54,
   "id": "aba172a8-37a9-4c8c-9ac5-d4d34fa36c26",
   "metadata": {},
   "outputs": [
    {
     "data": {
      "text/plain": [
       "10.42"
      ]
     },
     "execution_count": 54,
     "metadata": {},
     "output_type": "execute_result"
    }
   ],
   "source": [
    "dt.NumberOfPurchases.mean() #mean_value of NumberOfPurchases"
   ]
  },
  {
   "cell_type": "code",
   "execution_count": 57,
   "id": "41b77d74-9b75-45ae-8d19-5bbe20faefdd",
   "metadata": {},
   "outputs": [
    {
     "data": {
      "text/plain": [
       "11.0"
      ]
     },
     "execution_count": 57,
     "metadata": {},
     "output_type": "execute_result"
    }
   ],
   "source": [
    "dt.NumberOfPurchases.median() #median value"
   ]
  },
  {
   "cell_type": "code",
   "execution_count": 47,
   "id": "010aaeee-9a83-4b40-adf7-f9be27eb9818",
   "metadata": {},
   "outputs": [],
   "source": [
    "sorted_df = dt.sort_values(by='NumberOfPurchases', ascending=False)"
   ]
  },
  {
   "cell_type": "code",
   "execution_count": 48,
   "id": "ba35adff-55e5-4698-8e20-ff0db2a1cd62",
   "metadata": {},
   "outputs": [
    {
     "data": {
      "text/html": [
       "<div>\n",
       "<style scoped>\n",
       "    .dataframe tbody tr th:only-of-type {\n",
       "        vertical-align: middle;\n",
       "    }\n",
       "\n",
       "    .dataframe tbody tr th {\n",
       "        vertical-align: top;\n",
       "    }\n",
       "\n",
       "    .dataframe thead th {\n",
       "        text-align: right;\n",
       "    }\n",
       "</style>\n",
       "<table border=\"1\" class=\"dataframe\">\n",
       "  <thead>\n",
       "    <tr style=\"text-align: right;\">\n",
       "      <th></th>\n",
       "      <th>CustomerAge</th>\n",
       "      <th>Gender</th>\n",
       "      <th>AnnualIncome</th>\n",
       "      <th>NumberOfPurchases</th>\n",
       "      <th>ProductCategory</th>\n",
       "      <th>TimeSpentOnWebsite</th>\n",
       "      <th>LoyaltyProgram</th>\n",
       "      <th>DiscountsAvailed</th>\n",
       "      <th>PurchaseStatus</th>\n",
       "    </tr>\n",
       "  </thead>\n",
       "  <tbody>\n",
       "    <tr>\n",
       "      <th>81</th>\n",
       "      <td>40</td>\n",
       "      <td>0</td>\n",
       "      <td>98472.836073</td>\n",
       "      <td>20</td>\n",
       "      <td>0</td>\n",
       "      <td>53.051870</td>\n",
       "      <td>0</td>\n",
       "      <td>2</td>\n",
       "      <td>0</td>\n",
       "    </tr>\n",
       "    <tr>\n",
       "      <th>697</th>\n",
       "      <td>25</td>\n",
       "      <td>0</td>\n",
       "      <td>75390.839906</td>\n",
       "      <td>20</td>\n",
       "      <td>2</td>\n",
       "      <td>2.474061</td>\n",
       "      <td>1</td>\n",
       "      <td>0</td>\n",
       "      <td>1</td>\n",
       "    </tr>\n",
       "    <tr>\n",
       "      <th>1477</th>\n",
       "      <td>29</td>\n",
       "      <td>0</td>\n",
       "      <td>112824.243781</td>\n",
       "      <td>20</td>\n",
       "      <td>4</td>\n",
       "      <td>53.436397</td>\n",
       "      <td>0</td>\n",
       "      <td>4</td>\n",
       "      <td>1</td>\n",
       "    </tr>\n",
       "    <tr>\n",
       "      <th>888</th>\n",
       "      <td>19</td>\n",
       "      <td>1</td>\n",
       "      <td>132592.432370</td>\n",
       "      <td>20</td>\n",
       "      <td>3</td>\n",
       "      <td>25.887960</td>\n",
       "      <td>1</td>\n",
       "      <td>5</td>\n",
       "      <td>1</td>\n",
       "    </tr>\n",
       "    <tr>\n",
       "      <th>384</th>\n",
       "      <td>37</td>\n",
       "      <td>0</td>\n",
       "      <td>70632.646337</td>\n",
       "      <td>20</td>\n",
       "      <td>0</td>\n",
       "      <td>27.097792</td>\n",
       "      <td>1</td>\n",
       "      <td>4</td>\n",
       "      <td>1</td>\n",
       "    </tr>\n",
       "  </tbody>\n",
       "</table>\n",
       "</div>"
      ],
      "text/plain": [
       "      CustomerAge  Gender   AnnualIncome  NumberOfPurchases  ProductCategory  \\\n",
       "81             40       0   98472.836073                 20                0   \n",
       "697            25       0   75390.839906                 20                2   \n",
       "1477           29       0  112824.243781                 20                4   \n",
       "888            19       1  132592.432370                 20                3   \n",
       "384            37       0   70632.646337                 20                0   \n",
       "\n",
       "      TimeSpentOnWebsite  LoyaltyProgram  DiscountsAvailed  PurchaseStatus  \n",
       "81             53.051870               0                 2               0  \n",
       "697             2.474061               1                 0               1  \n",
       "1477           53.436397               0                 4               1  \n",
       "888            25.887960               1                 5               1  \n",
       "384            27.097792               1                 4               1  "
      ]
     },
     "execution_count": 48,
     "metadata": {},
     "output_type": "execute_result"
    }
   ],
   "source": [
    "sorted_df.head()"
   ]
  },
  {
   "cell_type": "code",
   "execution_count": 50,
   "id": "1fbe5cf2-c6f7-4533-a1e9-15c338f8bd39",
   "metadata": {},
   "outputs": [
    {
     "data": {
      "text/plain": [
       "Series([], dtype: float64)"
      ]
     },
     "execution_count": 50,
     "metadata": {},
     "output_type": "execute_result"
    }
   ],
   "source": [
    "dt.select_dtypes(include= 'object').nunique()"
   ]
  },
  {
   "cell_type": "code",
   "execution_count": 14,
   "id": "20accf0f-259e-4bbb-8882-0f9ebb588348",
   "metadata": {},
   "outputs": [
    {
     "data": {
      "text/html": [
       "<div>\n",
       "<style scoped>\n",
       "    .dataframe tbody tr th:only-of-type {\n",
       "        vertical-align: middle;\n",
       "    }\n",
       "\n",
       "    .dataframe tbody tr th {\n",
       "        vertical-align: top;\n",
       "    }\n",
       "\n",
       "    .dataframe thead th {\n",
       "        text-align: right;\n",
       "    }\n",
       "</style>\n",
       "<table border=\"1\" class=\"dataframe\">\n",
       "  <thead>\n",
       "    <tr style=\"text-align: right;\">\n",
       "      <th></th>\n",
       "      <th>Age</th>\n",
       "      <th>Gender</th>\n",
       "      <th>AnnualIncome</th>\n",
       "      <th>NumberOfPurchases</th>\n",
       "      <th>ProductCategory</th>\n",
       "      <th>TimeSpentOnWebsite</th>\n",
       "      <th>LoyaltyProgram</th>\n",
       "      <th>DiscountsAvailed</th>\n",
       "      <th>PurchaseStatus</th>\n",
       "    </tr>\n",
       "  </thead>\n",
       "  <tbody>\n",
       "    <tr>\n",
       "      <th>1</th>\n",
       "      <td>20</td>\n",
       "      <td>1</td>\n",
       "      <td>23579.773583</td>\n",
       "      <td>4</td>\n",
       "      <td>2</td>\n",
       "      <td>38.240097</td>\n",
       "      <td>0</td>\n",
       "      <td>5</td>\n",
       "      <td>0</td>\n",
       "    </tr>\n",
       "    <tr>\n",
       "      <th>2</th>\n",
       "      <td>27</td>\n",
       "      <td>1</td>\n",
       "      <td>127821.306432</td>\n",
       "      <td>11</td>\n",
       "      <td>2</td>\n",
       "      <td>31.633212</td>\n",
       "      <td>1</td>\n",
       "      <td>0</td>\n",
       "      <td>1</td>\n",
       "    </tr>\n",
       "    <tr>\n",
       "      <th>3</th>\n",
       "      <td>24</td>\n",
       "      <td>1</td>\n",
       "      <td>137798.623120</td>\n",
       "      <td>19</td>\n",
       "      <td>3</td>\n",
       "      <td>46.167059</td>\n",
       "      <td>0</td>\n",
       "      <td>4</td>\n",
       "      <td>1</td>\n",
       "    </tr>\n",
       "    <tr>\n",
       "      <th>6</th>\n",
       "      <td>39</td>\n",
       "      <td>1</td>\n",
       "      <td>126883.385286</td>\n",
       "      <td>16</td>\n",
       "      <td>3</td>\n",
       "      <td>42.085384</td>\n",
       "      <td>1</td>\n",
       "      <td>4</td>\n",
       "      <td>1</td>\n",
       "    </tr>\n",
       "    <tr>\n",
       "      <th>7</th>\n",
       "      <td>64</td>\n",
       "      <td>1</td>\n",
       "      <td>39707.359724</td>\n",
       "      <td>13</td>\n",
       "      <td>2</td>\n",
       "      <td>17.190292</td>\n",
       "      <td>1</td>\n",
       "      <td>0</td>\n",
       "      <td>0</td>\n",
       "    </tr>\n",
       "    <tr>\n",
       "      <th>11</th>\n",
       "      <td>70</td>\n",
       "      <td>1</td>\n",
       "      <td>83556.718133</td>\n",
       "      <td>11</td>\n",
       "      <td>2</td>\n",
       "      <td>42.173999</td>\n",
       "      <td>0</td>\n",
       "      <td>4</td>\n",
       "      <td>1</td>\n",
       "    </tr>\n",
       "    <tr>\n",
       "      <th>12</th>\n",
       "      <td>54</td>\n",
       "      <td>0</td>\n",
       "      <td>114467.228969</td>\n",
       "      <td>9</td>\n",
       "      <td>2</td>\n",
       "      <td>17.626044</td>\n",
       "      <td>1</td>\n",
       "      <td>5</td>\n",
       "      <td>1</td>\n",
       "    </tr>\n",
       "    <tr>\n",
       "      <th>17</th>\n",
       "      <td>18</td>\n",
       "      <td>1</td>\n",
       "      <td>128374.495052</td>\n",
       "      <td>0</td>\n",
       "      <td>2</td>\n",
       "      <td>16.768262</td>\n",
       "      <td>0</td>\n",
       "      <td>4</td>\n",
       "      <td>0</td>\n",
       "    </tr>\n",
       "    <tr>\n",
       "      <th>18</th>\n",
       "      <td>57</td>\n",
       "      <td>0</td>\n",
       "      <td>71740.688084</td>\n",
       "      <td>12</td>\n",
       "      <td>2</td>\n",
       "      <td>40.696727</td>\n",
       "      <td>0</td>\n",
       "      <td>2</td>\n",
       "      <td>0</td>\n",
       "    </tr>\n",
       "    <tr>\n",
       "      <th>19</th>\n",
       "      <td>20</td>\n",
       "      <td>0</td>\n",
       "      <td>121499.006189</td>\n",
       "      <td>12</td>\n",
       "      <td>3</td>\n",
       "      <td>21.240052</td>\n",
       "      <td>1</td>\n",
       "      <td>0</td>\n",
       "      <td>1</td>\n",
       "    </tr>\n",
       "  </tbody>\n",
       "</table>\n",
       "</div>"
      ],
      "text/plain": [
       "    Age  Gender   AnnualIncome  NumberOfPurchases  ProductCategory  \\\n",
       "1    20       1   23579.773583                  4                2   \n",
       "2    27       1  127821.306432                 11                2   \n",
       "3    24       1  137798.623120                 19                3   \n",
       "6    39       1  126883.385286                 16                3   \n",
       "7    64       1   39707.359724                 13                2   \n",
       "11   70       1   83556.718133                 11                2   \n",
       "12   54       0  114467.228969                  9                2   \n",
       "17   18       1  128374.495052                  0                2   \n",
       "18   57       0   71740.688084                 12                2   \n",
       "19   20       0  121499.006189                 12                3   \n",
       "\n",
       "    TimeSpentOnWebsite  LoyaltyProgram  DiscountsAvailed  PurchaseStatus  \n",
       "1            38.240097               0                 5               0  \n",
       "2            31.633212               1                 0               1  \n",
       "3            46.167059               0                 4               1  \n",
       "6            42.085384               1                 4               1  \n",
       "7            17.190292               1                 0               0  \n",
       "11           42.173999               0                 4               1  \n",
       "12           17.626044               1                 5               1  \n",
       "17           16.768262               0                 4               0  \n",
       "18           40.696727               0                 2               0  \n",
       "19           21.240052               1                 0               1  "
      ]
     },
     "execution_count": 14,
     "metadata": {},
     "output_type": "execute_result"
    }
   ],
   "source": [
    "dt[dt['ProductCategory'].isin([2,3])].head(10)\n"
   ]
  },
  {
   "cell_type": "code",
   "execution_count": 17,
   "id": "153e67f8-5b2d-4318-a573-154cfd00d63b",
   "metadata": {},
   "outputs": [
    {
     "data": {
      "text/html": [
       "<div>\n",
       "<style scoped>\n",
       "    .dataframe tbody tr th:only-of-type {\n",
       "        vertical-align: middle;\n",
       "    }\n",
       "\n",
       "    .dataframe tbody tr th {\n",
       "        vertical-align: top;\n",
       "    }\n",
       "\n",
       "    .dataframe thead th {\n",
       "        text-align: right;\n",
       "    }\n",
       "</style>\n",
       "<table border=\"1\" class=\"dataframe\">\n",
       "  <thead>\n",
       "    <tr style=\"text-align: right;\">\n",
       "      <th></th>\n",
       "      <th>Age</th>\n",
       "      <th>Gender</th>\n",
       "      <th>AnnualIncome</th>\n",
       "      <th>NumberOfPurchases</th>\n",
       "      <th>ProductCategory</th>\n",
       "      <th>TimeSpentOnWebsite</th>\n",
       "      <th>LoyaltyProgram</th>\n",
       "      <th>DiscountsAvailed</th>\n",
       "      <th>PurchaseStatus</th>\n",
       "    </tr>\n",
       "  </thead>\n",
       "  <tbody>\n",
       "    <tr>\n",
       "      <th>100</th>\n",
       "      <td>54</td>\n",
       "      <td>1</td>\n",
       "      <td>90906.143023</td>\n",
       "      <td>3</td>\n",
       "      <td>1</td>\n",
       "      <td>51.630197</td>\n",
       "      <td>1</td>\n",
       "      <td>0</td>\n",
       "      <td>0</td>\n",
       "    </tr>\n",
       "    <tr>\n",
       "      <th>101</th>\n",
       "      <td>24</td>\n",
       "      <td>0</td>\n",
       "      <td>98084.638651</td>\n",
       "      <td>19</td>\n",
       "      <td>0</td>\n",
       "      <td>4.638800</td>\n",
       "      <td>0</td>\n",
       "      <td>0</td>\n",
       "      <td>0</td>\n",
       "    </tr>\n",
       "    <tr>\n",
       "      <th>102</th>\n",
       "      <td>54</td>\n",
       "      <td>0</td>\n",
       "      <td>28320.825059</td>\n",
       "      <td>3</td>\n",
       "      <td>1</td>\n",
       "      <td>47.315403</td>\n",
       "      <td>1</td>\n",
       "      <td>4</td>\n",
       "      <td>1</td>\n",
       "    </tr>\n",
       "    <tr>\n",
       "      <th>103</th>\n",
       "      <td>55</td>\n",
       "      <td>0</td>\n",
       "      <td>29911.098337</td>\n",
       "      <td>15</td>\n",
       "      <td>2</td>\n",
       "      <td>34.023329</td>\n",
       "      <td>0</td>\n",
       "      <td>5</td>\n",
       "      <td>0</td>\n",
       "    </tr>\n",
       "    <tr>\n",
       "      <th>104</th>\n",
       "      <td>29</td>\n",
       "      <td>0</td>\n",
       "      <td>149326.508216</td>\n",
       "      <td>20</td>\n",
       "      <td>4</td>\n",
       "      <td>3.562568</td>\n",
       "      <td>0</td>\n",
       "      <td>3</td>\n",
       "      <td>1</td>\n",
       "    </tr>\n",
       "    <tr>\n",
       "      <th>...</th>\n",
       "      <td>...</td>\n",
       "      <td>...</td>\n",
       "      <td>...</td>\n",
       "      <td>...</td>\n",
       "      <td>...</td>\n",
       "      <td>...</td>\n",
       "      <td>...</td>\n",
       "      <td>...</td>\n",
       "      <td>...</td>\n",
       "    </tr>\n",
       "    <tr>\n",
       "      <th>195</th>\n",
       "      <td>22</td>\n",
       "      <td>0</td>\n",
       "      <td>147050.028039</td>\n",
       "      <td>2</td>\n",
       "      <td>0</td>\n",
       "      <td>29.455188</td>\n",
       "      <td>0</td>\n",
       "      <td>2</td>\n",
       "      <td>0</td>\n",
       "    </tr>\n",
       "    <tr>\n",
       "      <th>196</th>\n",
       "      <td>50</td>\n",
       "      <td>0</td>\n",
       "      <td>81923.645329</td>\n",
       "      <td>5</td>\n",
       "      <td>0</td>\n",
       "      <td>33.097768</td>\n",
       "      <td>0</td>\n",
       "      <td>4</td>\n",
       "      <td>0</td>\n",
       "    </tr>\n",
       "    <tr>\n",
       "      <th>197</th>\n",
       "      <td>27</td>\n",
       "      <td>0</td>\n",
       "      <td>120479.792644</td>\n",
       "      <td>19</td>\n",
       "      <td>2</td>\n",
       "      <td>15.743369</td>\n",
       "      <td>0</td>\n",
       "      <td>1</td>\n",
       "      <td>0</td>\n",
       "    </tr>\n",
       "    <tr>\n",
       "      <th>198</th>\n",
       "      <td>43</td>\n",
       "      <td>1</td>\n",
       "      <td>147283.641942</td>\n",
       "      <td>12</td>\n",
       "      <td>0</td>\n",
       "      <td>48.014833</td>\n",
       "      <td>0</td>\n",
       "      <td>3</td>\n",
       "      <td>1</td>\n",
       "    </tr>\n",
       "    <tr>\n",
       "      <th>199</th>\n",
       "      <td>22</td>\n",
       "      <td>0</td>\n",
       "      <td>87622.086000</td>\n",
       "      <td>2</td>\n",
       "      <td>1</td>\n",
       "      <td>24.942913</td>\n",
       "      <td>0</td>\n",
       "      <td>2</td>\n",
       "      <td>0</td>\n",
       "    </tr>\n",
       "  </tbody>\n",
       "</table>\n",
       "<p>100 rows × 9 columns</p>\n",
       "</div>"
      ],
      "text/plain": [
       "     Age  Gender   AnnualIncome  NumberOfPurchases  ProductCategory  \\\n",
       "100   54       1   90906.143023                  3                1   \n",
       "101   24       0   98084.638651                 19                0   \n",
       "102   54       0   28320.825059                  3                1   \n",
       "103   55       0   29911.098337                 15                2   \n",
       "104   29       0  149326.508216                 20                4   \n",
       "..   ...     ...            ...                ...              ...   \n",
       "195   22       0  147050.028039                  2                0   \n",
       "196   50       0   81923.645329                  5                0   \n",
       "197   27       0  120479.792644                 19                2   \n",
       "198   43       1  147283.641942                 12                0   \n",
       "199   22       0   87622.086000                  2                1   \n",
       "\n",
       "     TimeSpentOnWebsite  LoyaltyProgram  DiscountsAvailed  PurchaseStatus  \n",
       "100           51.630197               1                 0               0  \n",
       "101            4.638800               0                 0               0  \n",
       "102           47.315403               1                 4               1  \n",
       "103           34.023329               0                 5               0  \n",
       "104            3.562568               0                 3               1  \n",
       "..                  ...             ...               ...             ...  \n",
       "195           29.455188               0                 2               0  \n",
       "196           33.097768               0                 4               0  \n",
       "197           15.743369               0                 1               0  \n",
       "198           48.014833               0                 3               1  \n",
       "199           24.942913               0                 2               0  \n",
       "\n",
       "[100 rows x 9 columns]"
      ]
     },
     "execution_count": 17,
     "metadata": {},
     "output_type": "execute_result"
    }
   ],
   "source": [
    "dt[dt.index.isin(range(100,200))]"
   ]
  },
  {
   "cell_type": "code",
   "execution_count": 49,
   "id": "295e11de-c031-4dc2-b40d-0791a245e58d",
   "metadata": {},
   "outputs": [
    {
     "data": {
      "text/html": [
       "<div>\n",
       "<style scoped>\n",
       "    .dataframe tbody tr th:only-of-type {\n",
       "        vertical-align: middle;\n",
       "    }\n",
       "\n",
       "    .dataframe tbody tr th {\n",
       "        vertical-align: top;\n",
       "    }\n",
       "\n",
       "    .dataframe thead th {\n",
       "        text-align: right;\n",
       "    }\n",
       "</style>\n",
       "<table border=\"1\" class=\"dataframe\">\n",
       "  <thead>\n",
       "    <tr style=\"text-align: right;\">\n",
       "      <th></th>\n",
       "      <th>Age</th>\n",
       "      <th>Gender</th>\n",
       "      <th>AnnualIncome</th>\n",
       "      <th>NumberOfPurchases</th>\n",
       "      <th>ProductCategory</th>\n",
       "      <th>TimeSpentOnWebsite</th>\n",
       "      <th>LoyaltyProgram</th>\n",
       "      <th>DiscountsAvailed</th>\n",
       "      <th>PurchaseView</th>\n",
       "    </tr>\n",
       "  </thead>\n",
       "  <tbody>\n",
       "    <tr>\n",
       "      <th>2</th>\n",
       "      <td>27</td>\n",
       "      <td>1</td>\n",
       "      <td>127821.306432</td>\n",
       "      <td>11</td>\n",
       "      <td>2</td>\n",
       "      <td>31.633212</td>\n",
       "      <td>1</td>\n",
       "      <td>0</td>\n",
       "      <td>1</td>\n",
       "    </tr>\n",
       "    <tr>\n",
       "      <th>3</th>\n",
       "      <td>24</td>\n",
       "      <td>1</td>\n",
       "      <td>137798.623120</td>\n",
       "      <td>19</td>\n",
       "      <td>3</td>\n",
       "      <td>46.167059</td>\n",
       "      <td>0</td>\n",
       "      <td>4</td>\n",
       "      <td>1</td>\n",
       "    </tr>\n",
       "    <tr>\n",
       "      <th>6</th>\n",
       "      <td>39</td>\n",
       "      <td>1</td>\n",
       "      <td>126883.385286</td>\n",
       "      <td>16</td>\n",
       "      <td>3</td>\n",
       "      <td>42.085384</td>\n",
       "      <td>1</td>\n",
       "      <td>4</td>\n",
       "      <td>1</td>\n",
       "    </tr>\n",
       "    <tr>\n",
       "      <th>16</th>\n",
       "      <td>51</td>\n",
       "      <td>1</td>\n",
       "      <td>129174.208866</td>\n",
       "      <td>13</td>\n",
       "      <td>4</td>\n",
       "      <td>21.808776</td>\n",
       "      <td>0</td>\n",
       "      <td>0</td>\n",
       "      <td>1</td>\n",
       "    </tr>\n",
       "    <tr>\n",
       "      <th>17</th>\n",
       "      <td>18</td>\n",
       "      <td>1</td>\n",
       "      <td>128374.495052</td>\n",
       "      <td>0</td>\n",
       "      <td>2</td>\n",
       "      <td>16.768262</td>\n",
       "      <td>0</td>\n",
       "      <td>4</td>\n",
       "      <td>0</td>\n",
       "    </tr>\n",
       "    <tr>\n",
       "      <th>...</th>\n",
       "      <td>...</td>\n",
       "      <td>...</td>\n",
       "      <td>...</td>\n",
       "      <td>...</td>\n",
       "      <td>...</td>\n",
       "      <td>...</td>\n",
       "      <td>...</td>\n",
       "      <td>...</td>\n",
       "      <td>...</td>\n",
       "    </tr>\n",
       "    <tr>\n",
       "      <th>1472</th>\n",
       "      <td>42</td>\n",
       "      <td>1</td>\n",
       "      <td>133175.195256</td>\n",
       "      <td>15</td>\n",
       "      <td>4</td>\n",
       "      <td>5.759516</td>\n",
       "      <td>0</td>\n",
       "      <td>5</td>\n",
       "      <td>0</td>\n",
       "    </tr>\n",
       "    <tr>\n",
       "      <th>1479</th>\n",
       "      <td>24</td>\n",
       "      <td>0</td>\n",
       "      <td>125414.215531</td>\n",
       "      <td>11</td>\n",
       "      <td>4</td>\n",
       "      <td>19.450084</td>\n",
       "      <td>0</td>\n",
       "      <td>4</td>\n",
       "      <td>1</td>\n",
       "    </tr>\n",
       "    <tr>\n",
       "      <th>1485</th>\n",
       "      <td>21</td>\n",
       "      <td>1</td>\n",
       "      <td>120794.999552</td>\n",
       "      <td>10</td>\n",
       "      <td>0</td>\n",
       "      <td>7.630770</td>\n",
       "      <td>0</td>\n",
       "      <td>2</td>\n",
       "      <td>0</td>\n",
       "    </tr>\n",
       "    <tr>\n",
       "      <th>1486</th>\n",
       "      <td>28</td>\n",
       "      <td>1</td>\n",
       "      <td>141304.733075</td>\n",
       "      <td>0</td>\n",
       "      <td>1</td>\n",
       "      <td>17.351517</td>\n",
       "      <td>0</td>\n",
       "      <td>1</td>\n",
       "      <td>0</td>\n",
       "    </tr>\n",
       "    <tr>\n",
       "      <th>1498</th>\n",
       "      <td>63</td>\n",
       "      <td>0</td>\n",
       "      <td>134021.775532</td>\n",
       "      <td>16</td>\n",
       "      <td>2</td>\n",
       "      <td>37.311634</td>\n",
       "      <td>1</td>\n",
       "      <td>0</td>\n",
       "      <td>1</td>\n",
       "    </tr>\n",
       "  </tbody>\n",
       "</table>\n",
       "<p>340 rows × 9 columns</p>\n",
       "</div>"
      ],
      "text/plain": [
       "      Age  Gender   AnnualIncome  NumberOfPurchases  ProductCategory  \\\n",
       "2      27       1  127821.306432                 11                2   \n",
       "3      24       1  137798.623120                 19                3   \n",
       "6      39       1  126883.385286                 16                3   \n",
       "16     51       1  129174.208866                 13                4   \n",
       "17     18       1  128374.495052                  0                2   \n",
       "...   ...     ...            ...                ...              ...   \n",
       "1472   42       1  133175.195256                 15                4   \n",
       "1479   24       0  125414.215531                 11                4   \n",
       "1485   21       1  120794.999552                 10                0   \n",
       "1486   28       1  141304.733075                  0                1   \n",
       "1498   63       0  134021.775532                 16                2   \n",
       "\n",
       "      TimeSpentOnWebsite  LoyaltyProgram  DiscountsAvailed  PurchaseView  \n",
       "2              31.633212               1                 0             1  \n",
       "3              46.167059               0                 4             1  \n",
       "6              42.085384               1                 4             1  \n",
       "16             21.808776               0                 0             1  \n",
       "17             16.768262               0                 4             0  \n",
       "...                  ...             ...               ...           ...  \n",
       "1472            5.759516               0                 5             0  \n",
       "1479           19.450084               0                 4             1  \n",
       "1485            7.630770               0                 2             0  \n",
       "1486           17.351517               0                 1             0  \n",
       "1498           37.311634               1                 0             1  \n",
       "\n",
       "[340 rows x 9 columns]"
      ]
     },
     "execution_count": 49,
     "metadata": {},
     "output_type": "execute_result"
    }
   ],
   "source": [
    "dt[dt['AnnualIncome']>120000] #To find values which is greater than 120000"
   ]
  },
  {
   "cell_type": "code",
   "execution_count": 4,
   "id": "b6d4bc38-a9e5-4902-8698-eace19fcec60",
   "metadata": {},
   "outputs": [
    {
     "data": {
      "text/html": [
       "<div>\n",
       "<style scoped>\n",
       "    .dataframe tbody tr th:only-of-type {\n",
       "        vertical-align: middle;\n",
       "    }\n",
       "\n",
       "    .dataframe tbody tr th {\n",
       "        vertical-align: top;\n",
       "    }\n",
       "\n",
       "    .dataframe thead th {\n",
       "        text-align: right;\n",
       "    }\n",
       "</style>\n",
       "<table border=\"1\" class=\"dataframe\">\n",
       "  <thead>\n",
       "    <tr style=\"text-align: right;\">\n",
       "      <th></th>\n",
       "      <th>Age</th>\n",
       "      <th>Gender</th>\n",
       "      <th>AnnualIncome</th>\n",
       "      <th>NumberOfPurchases</th>\n",
       "      <th>ProductCategory</th>\n",
       "      <th>TimeSpentOnWebsite</th>\n",
       "      <th>LoyaltyProgram</th>\n",
       "      <th>DiscountsAvailed</th>\n",
       "      <th>PurchaseStatus</th>\n",
       "    </tr>\n",
       "  </thead>\n",
       "  <tbody>\n",
       "    <tr>\n",
       "      <th>0</th>\n",
       "      <td>40</td>\n",
       "      <td>1</td>\n",
       "      <td>66120.267939</td>\n",
       "      <td>8</td>\n",
       "      <td>0</td>\n",
       "      <td>30.568601</td>\n",
       "      <td>0</td>\n",
       "      <td>5</td>\n",
       "      <td>1</td>\n",
       "    </tr>\n",
       "    <tr>\n",
       "      <th>1</th>\n",
       "      <td>20</td>\n",
       "      <td>1</td>\n",
       "      <td>23579.773583</td>\n",
       "      <td>4</td>\n",
       "      <td>2</td>\n",
       "      <td>38.240097</td>\n",
       "      <td>0</td>\n",
       "      <td>5</td>\n",
       "      <td>0</td>\n",
       "    </tr>\n",
       "    <tr>\n",
       "      <th>2</th>\n",
       "      <td>27</td>\n",
       "      <td>1</td>\n",
       "      <td>127821.306432</td>\n",
       "      <td>11</td>\n",
       "      <td>2</td>\n",
       "      <td>31.633212</td>\n",
       "      <td>1</td>\n",
       "      <td>0</td>\n",
       "      <td>1</td>\n",
       "    </tr>\n",
       "  </tbody>\n",
       "</table>\n",
       "</div>"
      ],
      "text/plain": [
       "   Age  Gender   AnnualIncome  NumberOfPurchases  ProductCategory  \\\n",
       "0   40       1   66120.267939                  8                0   \n",
       "1   20       1   23579.773583                  4                2   \n",
       "2   27       1  127821.306432                 11                2   \n",
       "\n",
       "   TimeSpentOnWebsite  LoyaltyProgram  DiscountsAvailed  PurchaseStatus  \n",
       "0           30.568601               0                 5               1  \n",
       "1           38.240097               0                 5               0  \n",
       "2           31.633212               1                 0               1  "
      ]
     },
     "execution_count": 4,
     "metadata": {},
     "output_type": "execute_result"
    }
   ],
   "source": [
    "dt.head(3)"
   ]
  },
  {
   "cell_type": "markdown",
   "id": "30c7d467-425c-49e0-8e44-20d75722d5c4",
   "metadata": {},
   "source": [
    "# Visualization"
   ]
  },
  {
   "cell_type": "code",
   "execution_count": 15,
   "id": "a852cfc4-e863-4c80-9bea-e157fd935bd5",
   "metadata": {},
   "outputs": [],
   "source": [
    "plt.style.use('bmh')\n",
    "dt = pd.read_csv(r\"C:\\Users\\91988\\Downloads\\data scientist\\customer_purchase_data.csv\")"
   ]
  },
  {
   "cell_type": "code",
   "execution_count": 7,
   "id": "0b2f682a-fcd4-484c-bcaf-6170e6427105",
   "metadata": {},
   "outputs": [
    {
     "data": {
      "text/plain": [
       "<BarContainer object of 1500 artists>"
      ]
     },
     "execution_count": 7,
     "metadata": {},
     "output_type": "execute_result"
    },
    {
     "data": {
      "image/png": "[encoded data removed]",
      "text/plain": [
       "<Figure size 640x480 with 1 Axes>"
      ]
     },
     "metadata": {},
     "output_type": "display_data"
    }
   ],
   "source": [
    "x = dt['NumberOfPurchases']\n",
    "y = dt['TimeSpentOnWebsite']\n",
    "plt.xlabel('NumberOfPurchases',fontsize=24)\n",
    "plt.ylabel('TimeSpentOnWebsite', fontsize=24)\n",
    "plt.bar(x,y)\n",
    "\n",
    "\n",
    "\n"
   ]
  },
  {
   "cell_type": "code",
   "execution_count": 23,
   "id": "be6c6f90-e2c8-49b9-92f8-1222a99b9e9f",
   "metadata": {},
   "outputs": [],
   "source": [
    "sns.set(color_codes=True)"
   ]
  },
  {
   "cell_type": "code",
   "execution_count": 24,
   "id": "3892444e-3b11-4ad5-b463-4b1f3bb9eced",
   "metadata": {},
   "outputs": [
    {
     "name": "stdout",
     "output_type": "stream",
     "text": [
      "<class 'pandas.core.frame.DataFrame'>\n",
      "RangeIndex: 1500 entries, 0 to 1499\n",
      "Data columns (total 9 columns):\n",
      " #   Column              Non-Null Count  Dtype  \n",
      "---  ------              --------------  -----  \n",
      " 0   Age                 1500 non-null   int64  \n",
      " 1   Gender              1500 non-null   int64  \n",
      " 2   AnnualIncome        1500 non-null   float64\n",
      " 3   NumberOfPurchases   1500 non-null   int64  \n",
      " 4   ProductCategory     1500 non-null   int64  \n",
      " 5   TimeSpentOnWebsite  1500 non-null   float64\n",
      " 6   LoyaltyProgram      1500 non-null   int64  \n",
      " 7   DiscountsAvailed    1500 non-null   int64  \n",
      " 8   PurchaseStatus      1500 non-null   int64  \n",
      "dtypes: float64(2), int64(7)\n",
      "memory usage: 105.6 KB\n"
     ]
    }
   ],
   "source": [
    "dt.info()"
   ]
  },
  {
   "cell_type": "code",
   "execution_count": 51,
   "id": "d4cf1803-369e-4d2c-b2f5-af43f2b5e6b3",
   "metadata": {},
   "outputs": [
    {
     "data": {
      "text/plain": [
       "<seaborn.axisgrid.FacetGrid at 0x1a56f1f6dd0>"
      ]
     },
     "execution_count": 51,
     "metadata": {},
     "output_type": "execute_result"
    },
    {
     "data": {
      "image/png": "[encoded data removed]",
      "text/plain": [
       "<Figure size 500x500 with 1 Axes>"
      ]
     },
     "metadata": {},
     "output_type": "display_data"
    }
   ],
   "source": [
    "# Distplot()\n",
    "sns.displot(dt['NumberOfPurchases'])"
   ]
  },
  {
   "cell_type": "markdown",
   "id": "1f8db8ad-2490-4573-9f03-ebcb4b2a383d",
   "metadata": {},
   "source": [
    "# seaborn.scatterplot()\n",
    "   It is used by categories."
   ]
  },
  {
   "cell_type": "code",
   "execution_count": null,
   "id": "aebd395b-085e-4715-99c0-2105ee36dc4f",
   "metadata": {},
   "outputs": [],
   "source": []
  },
  {
   "cell_type": "markdown",
   "id": "a988c98f-b1c5-44ef-abc0-e9ff97d82898",
   "metadata": {},
   "source": [
    "# Distplot"
   ]
  },
  {
   "cell_type": "code",
   "execution_count": 54,
   "id": "076b463a-0287-48e1-b3af-f0d4a864d8d8",
   "metadata": {},
   "outputs": [
    {
     "data": {
      "text/plain": [
       "<Axes: xlabel='NumberOfPurchases', ylabel='Density'>"
      ]
     },
     "execution_count": 54,
     "metadata": {},
     "output_type": "execute_result"
    },
    {
     "data": {
      "image/png": "[encoded data removed]",
      "text/plain": [
       "<Figure size 640x480 with 1 Axes>"
      ]
     },
     "metadata": {},
     "output_type": "display_data"
    }
   ],
   "source": [
    "sns.distplot(dt['NumberOfPurchases'])"
   ]
  },
  {
   "cell_type": "code",
   "execution_count": 55,
   "id": "0cf69705-952d-43cf-afee-f3af2ad7d44c",
   "metadata": {},
   "outputs": [
    {
     "data": {
      "image/png": "[encoded data removed]",
      "text/plain": [
       "<Figure size 640x480 with 1 Axes>"
      ]
     },
     "metadata": {},
     "output_type": "display_data"
    }
   ],
   "source": [
    "import numpy as np\n",
    "import seaborn as sn\n",
    "import matplotlib.pyplot as plt\n",
    "\n",
    "dt = np.random.randn(100)\n",
    "xyz = pd.Series(dt,name=\"TimeSpentOnWebsite\")\n",
    "plot = sns.distplot(xyz,kde=True)\n",
    "plt.show()"
   ]
  },
  {
   "cell_type": "code",
   "execution_count": 12,
   "id": "0af2c83a-b16f-4a2f-b477-8eb248423ee7",
   "metadata": {},
   "outputs": [
    {
     "data": {
      "image/png": "[encoded data removed]",
      "text/plain": [
       "<Figure size 640x480 with 1 Axes>"
      ]
     },
     "metadata": {},
     "output_type": "display_data"
    }
   ],
   "source": [
    "\n",
    "data = pd.DataFrame(dt) \n",
    "  \n",
    "X = list(data.iloc[:, 0]) \n",
    "Y = list(data.iloc[:, 1]) \n",
    "  \n",
    "# Plot the data using bar() method \n",
    "plt.bar(X, Y, color='g') \n",
    "plt.title(\"Customer purchases\") \n",
    "plt.xlabel(\"DiscountsAvailed\") \n",
    "plt.ylabel(\"NumberOfPurchases\") \n",
    "  \n",
    "# Show the plot \n",
    "plt.show() "
   ]
  },
  {
   "cell_type": "markdown",
   "id": "d770e0ec-13ac-46bb-bc84-10b947cc1298",
   "metadata": {},
   "source": [
    "# Histplot()"
   ]
  },
  {
   "cell_type": "code",
   "execution_count": 84,
   "id": "a05abd70-534a-47a2-bc3c-ef9156d40825",
   "metadata": {},
   "outputs": [
    {
     "data": {
      "text/plain": [
       "<Axes: xlabel='TimeSpentOnWebsite', ylabel='Count'>"
      ]
     },
     "execution_count": 84,
     "metadata": {},
     "output_type": "execute_result"
    },
    {
     "data": {
      "image/png": "[encoded data removed]",
      "text/plain": [
       "<Figure size 640x480 with 1 Axes>"
      ]
     },
     "metadata": {},
     "output_type": "display_data"
    }
   ],
   "source": [
    "sns.histplot(dt[\"TimeSpentOnWebsite\"])\n"
   ]
  },
  {
   "cell_type": "code",
   "execution_count": 25,
   "id": "85899c01-c193-4660-820a-fa3a0042ef6c",
   "metadata": {},
   "outputs": [
    {
     "data": {
      "text/html": [
       "<div>\n",
       "<style scoped>\n",
       "    .dataframe tbody tr th:only-of-type {\n",
       "        vertical-align: middle;\n",
       "    }\n",
       "\n",
       "    .dataframe tbody tr th {\n",
       "        vertical-align: top;\n",
       "    }\n",
       "\n",
       "    .dataframe thead th {\n",
       "        text-align: right;\n",
       "    }\n",
       "</style>\n",
       "<table border=\"1\" class=\"dataframe\">\n",
       "  <thead>\n",
       "    <tr style=\"text-align: right;\">\n",
       "      <th></th>\n",
       "      <th>Age</th>\n",
       "      <th>Gender</th>\n",
       "      <th>AnnualIncome</th>\n",
       "      <th>NumberOfPurchases</th>\n",
       "      <th>ProductCategory</th>\n",
       "      <th>TimeSpentOnWebsite</th>\n",
       "      <th>LoyaltyProgram</th>\n",
       "      <th>DiscountsAvailed</th>\n",
       "      <th>PurchaseStatus</th>\n",
       "    </tr>\n",
       "  </thead>\n",
       "  <tbody>\n",
       "    <tr>\n",
       "      <th>0</th>\n",
       "      <td>40</td>\n",
       "      <td>1</td>\n",
       "      <td>66120.267939</td>\n",
       "      <td>8</td>\n",
       "      <td>0</td>\n",
       "      <td>30.568601</td>\n",
       "      <td>0</td>\n",
       "      <td>5</td>\n",
       "      <td>1</td>\n",
       "    </tr>\n",
       "    <tr>\n",
       "      <th>1</th>\n",
       "      <td>20</td>\n",
       "      <td>1</td>\n",
       "      <td>23579.773583</td>\n",
       "      <td>4</td>\n",
       "      <td>2</td>\n",
       "      <td>38.240097</td>\n",
       "      <td>0</td>\n",
       "      <td>5</td>\n",
       "      <td>0</td>\n",
       "    </tr>\n",
       "  </tbody>\n",
       "</table>\n",
       "</div>"
      ],
      "text/plain": [
       "   Age  Gender  AnnualIncome  NumberOfPurchases  ProductCategory  \\\n",
       "0   40       1  66120.267939                  8                0   \n",
       "1   20       1  23579.773583                  4                2   \n",
       "\n",
       "   TimeSpentOnWebsite  LoyaltyProgram  DiscountsAvailed  PurchaseStatus  \n",
       "0           30.568601               0                 5               1  \n",
       "1           38.240097               0                 5               0  "
      ]
     },
     "execution_count": 25,
     "metadata": {},
     "output_type": "execute_result"
    }
   ],
   "source": [
    "dt.head(2)"
   ]
  },
  {
   "cell_type": "code",
   "execution_count": 86,
   "id": "ab5af529-b72e-4414-87d2-f7bc68b12f06",
   "metadata": {},
   "outputs": [
    {
     "name": "stdout",
     "output_type": "stream",
     "text": [
      "ProductCategory\n",
      "1    331\n",
      "4    321\n",
      "0    289\n",
      "3    286\n",
      "2    273\n",
      "Name: count, dtype: int64\n"
     ]
    }
   ],
   "source": [
    "B=dt['ProductCategory'].value_counts()\n",
    "print(B)"
   ]
  },
  {
   "cell_type": "code",
   "execution_count": null,
   "id": "dd402f54-41df-4f49-88a4-4cb96c547086",
   "metadata": {},
   "outputs": [],
   "source": []
  },
  {
   "cell_type": "code",
   "execution_count": 87,
   "id": "9d747abd-2429-4fc6-9127-2cc52e63efe3",
   "metadata": {},
   "outputs": [
    {
     "data": {
      "text/plain": [
       "pandas.core.series.Series"
      ]
     },
     "execution_count": 87,
     "metadata": {},
     "output_type": "execute_result"
    }
   ],
   "source": [
    "type(B)"
   ]
  },
  {
   "cell_type": "markdown",
   "id": "1334d374-82c4-477a-a846-23509c3b6884",
   "metadata": {},
   "source": [
    "# Donut Chart:"
   ]
  },
  {
   "cell_type": "markdown",
   "id": "10502242-ae67-47ca-9e77-d3dac3f9aee0",
   "metadata": {},
   "source": [
    "Donut chart is a modified pie chart,with an area from center cut out."
   ]
  },
  {
   "cell_type": "code",
   "execution_count": 94,
   "id": "00856ee0-023a-4011-be46-f3d35123962a",
   "metadata": {},
   "outputs": [
    {
     "data": {
      "text/plain": [
       "([<matplotlib.patches.Wedge at 0x2d0a0edc750>,\n",
       "  <matplotlib.patches.Wedge at 0x2d0a0edec90>,\n",
       "  <matplotlib.patches.Wedge at 0x2d0a0ece4d0>,\n",
       "  <matplotlib.patches.Wedge at 0x2d0a10ee7d0>,\n",
       "  <matplotlib.patches.Wedge at 0x2d0a0f02d90>],\n",
       " [Text(0.38193533980836586, 1.0315645380709189, '1'),\n",
       "  Text(-0.9209070324548304, 0.6016063809296224, '4'),\n",
       "  Text(-0.8507719743730578, -0.697271143545586, '3'),\n",
       "  Text(0.36241163782475155, -1.0385845198004742, '0'),\n",
       "  Text(1.0985526878755287, -0.05640914785255175, '2')],\n",
       " [Text(0.2604104589602494, 0.7033394577756265, '22.05%'),\n",
       "  Text(-0.6278911584919298, 0.4101861688156516, '20.82%'),\n",
       "  Text(-0.580071800708903, -0.4754121433265358, '19.45%'),\n",
       "  Text(0.24709884397142148, -0.7081258089548687, '19.38%'),\n",
       "  Text(0.7490131962787696, -0.038460782626739826, '18.30%')])"
      ]
     },
     "execution_count": 94,
     "metadata": {},
     "output_type": "execute_result"
    },
    {
     "data": {
      "image/png": "[encoded data removed]",
      "text/plain": [
       "<Figure size 640x480 with 1 Axes>"
      ]
     },
     "metadata": {},
     "output_type": "display_data"
    }
   ],
   "source": [
    "#The data is taken from variable 'B'\n",
    "plt.pie(B, labels=['1','4','3','0','2'],colors=['pink','green','yellow','blue','black'],startangle = 30, shadow =True, radius=1,\n",
    "       autopct= '%1.2f%%',pctdistance = 0.75) #autopct shows the percentage on the chart upto required decimal points."
   ]
  },
  {
   "cell_type": "markdown",
   "id": "dcf90fa4-4eb1-4113-8f91-dac46174dfee",
   "metadata": {},
   "source": [
    "# Seaborn Countplot()"
   ]
  },
  {
   "cell_type": "code",
   "execution_count": 23,
   "id": "9053040f-609d-481c-8f59-10caf4cc0df7",
   "metadata": {},
   "outputs": [
    {
     "data": {
      "image/png": "[encoded data removed]",
      "text/plain": [
       "<Figure size 640x480 with 1 Axes>"
      ]
     },
     "metadata": {},
     "output_type": "display_data"
    }
   ],
   "source": [
    "sns.countplot(dt['LoyaltyProgram']);"
   ]
  },
  {
   "cell_type": "markdown",
   "id": "ec1ee01e-cfca-4724-a9f3-5fff90a74ecb",
   "metadata": {},
   "source": [
    "# Countplot"
   ]
  },
  {
   "cell_type": "code",
   "execution_count": 39,
   "id": "f5733651-197f-4e79-b668-75869e74426d",
   "metadata": {},
   "outputs": [],
   "source": [
    "#Drawing the countplot for the column 'DiscountsAvailed' from the dataset using seaborm libarty"
   ]
  },
  {
   "cell_type": "code",
   "execution_count": 38,
   "id": "0378f531-ae42-48fc-aef3-8dc798d1b2a6",
   "metadata": {},
   "outputs": [
    {
     "data": {
      "image/png": "[encoded data removed]",
      "text/plain": [
       "<Figure size 600x300 with 1 Axes>"
      ]
     },
     "metadata": {},
     "output_type": "display_data"
    }
   ],
   "source": [
    "plt.figure(figsize=(6,3))\n",
    "sns.countplot(dt['DiscountsAvailed']);\n",
    "\n",
    "plt.xticks(fontsize = 10)\n",
    "plt.yticks(fontsize=10)\n",
    "\n",
    "plt.show()"
   ]
  },
  {
   "cell_type": "markdown",
   "id": "d71c8bbc-c65b-42f6-8314-45572cea8ca4",
   "metadata": {},
   "source": [
    "# Seaborn Lineplot()"
   ]
  },
  {
   "cell_type": "code",
   "execution_count": 30,
   "id": "fa4cc050-4d1b-43f5-861d-c12dde0b0d65",
   "metadata": {},
   "outputs": [
    {
     "data": {
      "text/plain": [
       "Index(['Age', 'Gender', 'AnnualIncome', 'NumberOfPurchases', 'ProductCategory',\n",
       "       'TimeSpentOnWebsite', 'LoyaltyProgram', 'DiscountsAvailed',\n",
       "       'PurchaseStatus'],\n",
       "      dtype='object')"
      ]
     },
     "execution_count": 30,
     "metadata": {},
     "output_type": "execute_result"
    }
   ],
   "source": [
    "dt.columns"
   ]
  },
  {
   "cell_type": "code",
   "execution_count": 34,
   "id": "36f1e25d-e2fe-4d93-ab57-255b77d0dcb7",
   "metadata": {},
   "outputs": [
    {
     "data": {
      "text/plain": [
       "<Axes: xlabel='LoyaltyProgram', ylabel='AnnualIncome'>"
      ]
     },
     "execution_count": 34,
     "metadata": {},
     "output_type": "execute_result"
    },
    {
     "data": {
      "image/png": "[encoded data removed]",
      "text/plain": [
       "<Figure size 640x480 with 1 Axes>"
      ]
     },
     "metadata": {},
     "output_type": "display_data"
    }
   ],
   "source": [
    "dt=data[data.index.isin(range(2,1000))]\n",
    "d2=dt.loc[dt['AnnualIncome']>=1500.00]\n",
    "sns.lineplot(data=d2 ,x='LoyaltyProgram',y='AnnualIncome')"
   ]
  },
  {
   "cell_type": "markdown",
   "id": "b7afc168-b918-465f-80ea-007efb1bb26d",
   "metadata": {},
   "source": [
    "# Catplot()"
   ]
  },
  {
   "cell_type": "code",
   "execution_count": 58,
   "id": "7c58a213-0ef5-40fa-922b-af85bdfecc3a",
   "metadata": {},
   "outputs": [
    {
     "ename": "ValueError",
     "evalue": "Could not interpret value `PurchaseStatus` for parameter `x`",
     "output_type": "error",
     "traceback": [
      "\u001b[1;31m---------------------------------------------------------------------------\u001b[0m",
      "\u001b[1;31mValueError\u001b[0m                                Traceback (most recent call last)",
      "Cell \u001b[1;32mIn[58], line 1\u001b[0m\n\u001b[1;32m----> 1\u001b[0m res \u001b[38;5;241m=\u001b[39m sns\u001b[38;5;241m.\u001b[39mcatplot(y\u001b[38;5;241m=\u001b[39m\u001b[38;5;124m\"\u001b[39m\u001b[38;5;124mTimeSpentOnWebsite\u001b[39m\u001b[38;5;124m\"\u001b[39m, x\u001b[38;5;241m=\u001b[39m\u001b[38;5;124m\"\u001b[39m\u001b[38;5;124mPurchaseStatus\u001b[39m\u001b[38;5;124m\"\u001b[39m, data\u001b[38;5;241m=\u001b[39mdt)\n\u001b[0;32m      2\u001b[0m plt\u001b[38;5;241m.\u001b[39mshow()\n",
      "File \u001b[1;32m~\\anaconda3\\Lib\\site-packages\\seaborn\\categorical.py:3031\u001b[0m, in \u001b[0;36mcatplot\u001b[1;34m(data, x, y, hue, row, col, col_wrap, estimator, errorbar, n_boot, units, seed, order, hue_order, row_order, col_order, height, aspect, kind, native_scale, formatter, orient, color, palette, hue_norm, legend, legend_out, sharex, sharey, margin_titles, facet_kws, ci, **kwargs)\u001b[0m\n\u001b[0;32m   3028\u001b[0m refactored_kinds \u001b[38;5;241m=\u001b[39m [\u001b[38;5;124m\"\u001b[39m\u001b[38;5;124mstrip\u001b[39m\u001b[38;5;124m\"\u001b[39m, \u001b[38;5;124m\"\u001b[39m\u001b[38;5;124mswarm\u001b[39m\u001b[38;5;124m\"\u001b[39m]\n\u001b[0;32m   3029\u001b[0m \u001b[38;5;28;01mif\u001b[39;00m kind \u001b[38;5;129;01min\u001b[39;00m refactored_kinds:\n\u001b[1;32m-> 3031\u001b[0m     p \u001b[38;5;241m=\u001b[39m _CategoricalFacetPlotter(\n\u001b[0;32m   3032\u001b[0m         data\u001b[38;5;241m=\u001b[39mdata,\n\u001b[0;32m   3033\u001b[0m         variables\u001b[38;5;241m=\u001b[39m_CategoricalFacetPlotter\u001b[38;5;241m.\u001b[39mget_semantics(\u001b[38;5;28mlocals\u001b[39m()),\n\u001b[0;32m   3034\u001b[0m         order\u001b[38;5;241m=\u001b[39morder,\n\u001b[0;32m   3035\u001b[0m         orient\u001b[38;5;241m=\u001b[39morient,\n\u001b[0;32m   3036\u001b[0m         require_numeric\u001b[38;5;241m=\u001b[39m\u001b[38;5;28;01mFalse\u001b[39;00m,\n\u001b[0;32m   3037\u001b[0m         legend\u001b[38;5;241m=\u001b[39mlegend,\n\u001b[0;32m   3038\u001b[0m     )\n\u001b[0;32m   3040\u001b[0m     \u001b[38;5;66;03m# XXX Copying a fair amount from displot, which is not ideal\u001b[39;00m\n\u001b[0;32m   3042\u001b[0m     \u001b[38;5;28;01mfor\u001b[39;00m var \u001b[38;5;129;01min\u001b[39;00m [\u001b[38;5;124m\"\u001b[39m\u001b[38;5;124mrow\u001b[39m\u001b[38;5;124m\"\u001b[39m, \u001b[38;5;124m\"\u001b[39m\u001b[38;5;124mcol\u001b[39m\u001b[38;5;124m\"\u001b[39m]:\n\u001b[0;32m   3043\u001b[0m         \u001b[38;5;66;03m# Handle faceting variables that lack name information\u001b[39;00m\n",
      "File \u001b[1;32m~\\anaconda3\\Lib\\site-packages\\seaborn\\categorical.py:66\u001b[0m, in \u001b[0;36m_CategoricalPlotterNew.__init__\u001b[1;34m(self, data, variables, order, orient, require_numeric, legend)\u001b[0m\n\u001b[0;32m     56\u001b[0m \u001b[38;5;28;01mdef\u001b[39;00m \u001b[38;5;21m__init__\u001b[39m(\n\u001b[0;32m     57\u001b[0m     \u001b[38;5;28mself\u001b[39m,\n\u001b[0;32m     58\u001b[0m     data\u001b[38;5;241m=\u001b[39m\u001b[38;5;28;01mNone\u001b[39;00m,\n\u001b[1;32m   (...)\u001b[0m\n\u001b[0;32m     63\u001b[0m     legend\u001b[38;5;241m=\u001b[39m\u001b[38;5;124m\"\u001b[39m\u001b[38;5;124mauto\u001b[39m\u001b[38;5;124m\"\u001b[39m,\n\u001b[0;32m     64\u001b[0m ):\n\u001b[1;32m---> 66\u001b[0m     \u001b[38;5;28msuper\u001b[39m()\u001b[38;5;241m.\u001b[39m\u001b[38;5;21m__init__\u001b[39m(data\u001b[38;5;241m=\u001b[39mdata, variables\u001b[38;5;241m=\u001b[39mvariables)\n\u001b[0;32m     68\u001b[0m     \u001b[38;5;66;03m# This method takes care of some bookkeeping that is necessary because the\u001b[39;00m\n\u001b[0;32m     69\u001b[0m     \u001b[38;5;66;03m# original categorical plots (prior to the 2021 refactor) had some rules that\u001b[39;00m\n\u001b[0;32m     70\u001b[0m     \u001b[38;5;66;03m# don't fit exactly into the logic of _core. It may be wise to have a second\u001b[39;00m\n\u001b[1;32m   (...)\u001b[0m\n\u001b[0;32m     75\u001b[0m     \u001b[38;5;66;03m# wide_structure rules in _core. If we do decide to make orient part of the\u001b[39;00m\n\u001b[0;32m     76\u001b[0m     \u001b[38;5;66;03m# _core variable assignment, we'll want to figure out how to express that.\u001b[39;00m\n\u001b[0;32m     77\u001b[0m     \u001b[38;5;28;01mif\u001b[39;00m \u001b[38;5;28mself\u001b[39m\u001b[38;5;241m.\u001b[39minput_format \u001b[38;5;241m==\u001b[39m \u001b[38;5;124m\"\u001b[39m\u001b[38;5;124mwide\u001b[39m\u001b[38;5;124m\"\u001b[39m \u001b[38;5;129;01mand\u001b[39;00m orient \u001b[38;5;241m==\u001b[39m \u001b[38;5;124m\"\u001b[39m\u001b[38;5;124mh\u001b[39m\u001b[38;5;124m\"\u001b[39m:\n",
      "File \u001b[1;32m~\\anaconda3\\Lib\\site-packages\\seaborn\\_oldcore.py:640\u001b[0m, in \u001b[0;36mVectorPlotter.__init__\u001b[1;34m(self, data, variables)\u001b[0m\n\u001b[0;32m    635\u001b[0m \u001b[38;5;66;03m# var_ordered is relevant only for categorical axis variables, and may\u001b[39;00m\n\u001b[0;32m    636\u001b[0m \u001b[38;5;66;03m# be better handled by an internal axis information object that tracks\u001b[39;00m\n\u001b[0;32m    637\u001b[0m \u001b[38;5;66;03m# such information and is set up by the scale_* methods. The analogous\u001b[39;00m\n\u001b[0;32m    638\u001b[0m \u001b[38;5;66;03m# information for numeric axes would be information about log scales.\u001b[39;00m\n\u001b[0;32m    639\u001b[0m \u001b[38;5;28mself\u001b[39m\u001b[38;5;241m.\u001b[39m_var_ordered \u001b[38;5;241m=\u001b[39m {\u001b[38;5;124m\"\u001b[39m\u001b[38;5;124mx\u001b[39m\u001b[38;5;124m\"\u001b[39m: \u001b[38;5;28;01mFalse\u001b[39;00m, \u001b[38;5;124m\"\u001b[39m\u001b[38;5;124my\u001b[39m\u001b[38;5;124m\"\u001b[39m: \u001b[38;5;28;01mFalse\u001b[39;00m}  \u001b[38;5;66;03m# alt., used DefaultDict\u001b[39;00m\n\u001b[1;32m--> 640\u001b[0m \u001b[38;5;28mself\u001b[39m\u001b[38;5;241m.\u001b[39massign_variables(data, variables)\n\u001b[0;32m    642\u001b[0m \u001b[38;5;28;01mfor\u001b[39;00m var, \u001b[38;5;28mcls\u001b[39m \u001b[38;5;129;01min\u001b[39;00m \u001b[38;5;28mself\u001b[39m\u001b[38;5;241m.\u001b[39m_semantic_mappings\u001b[38;5;241m.\u001b[39mitems():\n\u001b[0;32m    643\u001b[0m \n\u001b[0;32m    644\u001b[0m     \u001b[38;5;66;03m# Create the mapping function\u001b[39;00m\n\u001b[0;32m    645\u001b[0m     map_func \u001b[38;5;241m=\u001b[39m partial(\u001b[38;5;28mcls\u001b[39m\u001b[38;5;241m.\u001b[39mmap, plotter\u001b[38;5;241m=\u001b[39m\u001b[38;5;28mself\u001b[39m)\n",
      "File \u001b[1;32m~\\anaconda3\\Lib\\site-packages\\seaborn\\_oldcore.py:701\u001b[0m, in \u001b[0;36mVectorPlotter.assign_variables\u001b[1;34m(self, data, variables)\u001b[0m\n\u001b[0;32m    699\u001b[0m \u001b[38;5;28;01melse\u001b[39;00m:\n\u001b[0;32m    700\u001b[0m     \u001b[38;5;28mself\u001b[39m\u001b[38;5;241m.\u001b[39minput_format \u001b[38;5;241m=\u001b[39m \u001b[38;5;124m\"\u001b[39m\u001b[38;5;124mlong\u001b[39m\u001b[38;5;124m\"\u001b[39m\n\u001b[1;32m--> 701\u001b[0m     plot_data, variables \u001b[38;5;241m=\u001b[39m \u001b[38;5;28mself\u001b[39m\u001b[38;5;241m.\u001b[39m_assign_variables_longform(\n\u001b[0;32m    702\u001b[0m         data, \u001b[38;5;241m*\u001b[39m\u001b[38;5;241m*\u001b[39mvariables,\n\u001b[0;32m    703\u001b[0m     )\n\u001b[0;32m    705\u001b[0m \u001b[38;5;28mself\u001b[39m\u001b[38;5;241m.\u001b[39mplot_data \u001b[38;5;241m=\u001b[39m plot_data\n\u001b[0;32m    706\u001b[0m \u001b[38;5;28mself\u001b[39m\u001b[38;5;241m.\u001b[39mvariables \u001b[38;5;241m=\u001b[39m variables\n",
      "File \u001b[1;32m~\\anaconda3\\Lib\\site-packages\\seaborn\\_oldcore.py:938\u001b[0m, in \u001b[0;36mVectorPlotter._assign_variables_longform\u001b[1;34m(self, data, **kwargs)\u001b[0m\n\u001b[0;32m    933\u001b[0m \u001b[38;5;28;01melif\u001b[39;00m \u001b[38;5;28misinstance\u001b[39m(val, (\u001b[38;5;28mstr\u001b[39m, \u001b[38;5;28mbytes\u001b[39m)):\n\u001b[0;32m    934\u001b[0m \n\u001b[0;32m    935\u001b[0m     \u001b[38;5;66;03m# This looks like a column name but we don't know what it means!\u001b[39;00m\n\u001b[0;32m    937\u001b[0m     err \u001b[38;5;241m=\u001b[39m \u001b[38;5;124mf\u001b[39m\u001b[38;5;124m\"\u001b[39m\u001b[38;5;124mCould not interpret value `\u001b[39m\u001b[38;5;132;01m{\u001b[39;00mval\u001b[38;5;132;01m}\u001b[39;00m\u001b[38;5;124m` for parameter `\u001b[39m\u001b[38;5;132;01m{\u001b[39;00mkey\u001b[38;5;132;01m}\u001b[39;00m\u001b[38;5;124m`\u001b[39m\u001b[38;5;124m\"\u001b[39m\n\u001b[1;32m--> 938\u001b[0m     \u001b[38;5;28;01mraise\u001b[39;00m \u001b[38;5;167;01mValueError\u001b[39;00m(err)\n\u001b[0;32m    940\u001b[0m \u001b[38;5;28;01melse\u001b[39;00m:\n\u001b[0;32m    941\u001b[0m \n\u001b[0;32m    942\u001b[0m     \u001b[38;5;66;03m# Otherwise, assume the value is itself data\u001b[39;00m\n\u001b[0;32m    943\u001b[0m \n\u001b[0;32m    944\u001b[0m     \u001b[38;5;66;03m# Raise when data object is present and a vector can't matched\u001b[39;00m\n\u001b[0;32m    945\u001b[0m     \u001b[38;5;28;01mif\u001b[39;00m \u001b[38;5;28misinstance\u001b[39m(data, pd\u001b[38;5;241m.\u001b[39mDataFrame) \u001b[38;5;129;01mand\u001b[39;00m \u001b[38;5;129;01mnot\u001b[39;00m \u001b[38;5;28misinstance\u001b[39m(val, pd\u001b[38;5;241m.\u001b[39mSeries):\n",
      "\u001b[1;31mValueError\u001b[0m: Could not interpret value `PurchaseStatus` for parameter `x`"
     ]
    }
   ],
   "source": [
    "res = sns.catplot(y=\"TimeSpentOnWebsite\", x=\"PurchaseStatus\", data=dt)\n",
    "plt.show()"
   ]
  },
  {
   "cell_type": "markdown",
   "id": "89076f3e-6c54-459c-a484-d65216d0be5a",
   "metadata": {},
   "source": [
    "# Seaborn Swarmplot()¶"
   ]
  },
  {
   "cell_type": "code",
   "execution_count": 59,
   "id": "9dcbf648-4e4a-4d53-8756-2d01b3ab1246",
   "metadata": {},
   "outputs": [
    {
     "ename": "ValueError",
     "evalue": "Could not interpret value `DiscountsAvailed` for parameter `x`",
     "output_type": "error",
     "traceback": [
      "\u001b[1;31m---------------------------------------------------------------------------\u001b[0m",
      "\u001b[1;31mValueError\u001b[0m                                Traceback (most recent call last)",
      "Cell \u001b[1;32mIn[59], line 1\u001b[0m\n\u001b[1;32m----> 1\u001b[0m res \u001b[38;5;241m=\u001b[39m sns\u001b[38;5;241m.\u001b[39mswarmplot(x\u001b[38;5;241m=\u001b[39m\u001b[38;5;124m\"\u001b[39m\u001b[38;5;124mDiscountsAvailed\u001b[39m\u001b[38;5;124m\"\u001b[39m, y\u001b[38;5;241m=\u001b[39m\u001b[38;5;124m\"\u001b[39m\u001b[38;5;124mAge\u001b[39m\u001b[38;5;124m\"\u001b[39m, data\u001b[38;5;241m=\u001b[39mdt)\n\u001b[0;32m      3\u001b[0m plt\u001b[38;5;241m.\u001b[39mshow()\n",
      "File \u001b[1;32m~\\anaconda3\\Lib\\site-packages\\seaborn\\categorical.py:2625\u001b[0m, in \u001b[0;36mswarmplot\u001b[1;34m(data, x, y, hue, order, hue_order, dodge, orient, color, palette, size, edgecolor, linewidth, hue_norm, native_scale, formatter, legend, warn_thresh, ax, **kwargs)\u001b[0m\n\u001b[0;32m   2617\u001b[0m \u001b[38;5;28;01mdef\u001b[39;00m \u001b[38;5;21mswarmplot\u001b[39m(\n\u001b[0;32m   2618\u001b[0m     data\u001b[38;5;241m=\u001b[39m\u001b[38;5;28;01mNone\u001b[39;00m, \u001b[38;5;241m*\u001b[39m, x\u001b[38;5;241m=\u001b[39m\u001b[38;5;28;01mNone\u001b[39;00m, y\u001b[38;5;241m=\u001b[39m\u001b[38;5;28;01mNone\u001b[39;00m, hue\u001b[38;5;241m=\u001b[39m\u001b[38;5;28;01mNone\u001b[39;00m, order\u001b[38;5;241m=\u001b[39m\u001b[38;5;28;01mNone\u001b[39;00m, hue_order\u001b[38;5;241m=\u001b[39m\u001b[38;5;28;01mNone\u001b[39;00m,\n\u001b[0;32m   2619\u001b[0m     dodge\u001b[38;5;241m=\u001b[39m\u001b[38;5;28;01mFalse\u001b[39;00m, orient\u001b[38;5;241m=\u001b[39m\u001b[38;5;28;01mNone\u001b[39;00m, color\u001b[38;5;241m=\u001b[39m\u001b[38;5;28;01mNone\u001b[39;00m, palette\u001b[38;5;241m=\u001b[39m\u001b[38;5;28;01mNone\u001b[39;00m,\n\u001b[1;32m   (...)\u001b[0m\n\u001b[0;32m   2622\u001b[0m     ax\u001b[38;5;241m=\u001b[39m\u001b[38;5;28;01mNone\u001b[39;00m, \u001b[38;5;241m*\u001b[39m\u001b[38;5;241m*\u001b[39mkwargs\n\u001b[0;32m   2623\u001b[0m ):\n\u001b[1;32m-> 2625\u001b[0m     p \u001b[38;5;241m=\u001b[39m _CategoricalPlotterNew(\n\u001b[0;32m   2626\u001b[0m         data\u001b[38;5;241m=\u001b[39mdata,\n\u001b[0;32m   2627\u001b[0m         variables\u001b[38;5;241m=\u001b[39m_CategoricalPlotterNew\u001b[38;5;241m.\u001b[39mget_semantics(\u001b[38;5;28mlocals\u001b[39m()),\n\u001b[0;32m   2628\u001b[0m         order\u001b[38;5;241m=\u001b[39morder,\n\u001b[0;32m   2629\u001b[0m         orient\u001b[38;5;241m=\u001b[39morient,\n\u001b[0;32m   2630\u001b[0m         require_numeric\u001b[38;5;241m=\u001b[39m\u001b[38;5;28;01mFalse\u001b[39;00m,\n\u001b[0;32m   2631\u001b[0m         legend\u001b[38;5;241m=\u001b[39mlegend,\n\u001b[0;32m   2632\u001b[0m     )\n\u001b[0;32m   2634\u001b[0m     \u001b[38;5;28;01mif\u001b[39;00m ax \u001b[38;5;129;01mis\u001b[39;00m \u001b[38;5;28;01mNone\u001b[39;00m:\n\u001b[0;32m   2635\u001b[0m         ax \u001b[38;5;241m=\u001b[39m plt\u001b[38;5;241m.\u001b[39mgca()\n",
      "File \u001b[1;32m~\\anaconda3\\Lib\\site-packages\\seaborn\\categorical.py:66\u001b[0m, in \u001b[0;36m_CategoricalPlotterNew.__init__\u001b[1;34m(self, data, variables, order, orient, require_numeric, legend)\u001b[0m\n\u001b[0;32m     56\u001b[0m \u001b[38;5;28;01mdef\u001b[39;00m \u001b[38;5;21m__init__\u001b[39m(\n\u001b[0;32m     57\u001b[0m     \u001b[38;5;28mself\u001b[39m,\n\u001b[0;32m     58\u001b[0m     data\u001b[38;5;241m=\u001b[39m\u001b[38;5;28;01mNone\u001b[39;00m,\n\u001b[1;32m   (...)\u001b[0m\n\u001b[0;32m     63\u001b[0m     legend\u001b[38;5;241m=\u001b[39m\u001b[38;5;124m\"\u001b[39m\u001b[38;5;124mauto\u001b[39m\u001b[38;5;124m\"\u001b[39m,\n\u001b[0;32m     64\u001b[0m ):\n\u001b[1;32m---> 66\u001b[0m     \u001b[38;5;28msuper\u001b[39m()\u001b[38;5;241m.\u001b[39m\u001b[38;5;21m__init__\u001b[39m(data\u001b[38;5;241m=\u001b[39mdata, variables\u001b[38;5;241m=\u001b[39mvariables)\n\u001b[0;32m     68\u001b[0m     \u001b[38;5;66;03m# This method takes care of some bookkeeping that is necessary because the\u001b[39;00m\n\u001b[0;32m     69\u001b[0m     \u001b[38;5;66;03m# original categorical plots (prior to the 2021 refactor) had some rules that\u001b[39;00m\n\u001b[0;32m     70\u001b[0m     \u001b[38;5;66;03m# don't fit exactly into the logic of _core. It may be wise to have a second\u001b[39;00m\n\u001b[1;32m   (...)\u001b[0m\n\u001b[0;32m     75\u001b[0m     \u001b[38;5;66;03m# wide_structure rules in _core. If we do decide to make orient part of the\u001b[39;00m\n\u001b[0;32m     76\u001b[0m     \u001b[38;5;66;03m# _core variable assignment, we'll want to figure out how to express that.\u001b[39;00m\n\u001b[0;32m     77\u001b[0m     \u001b[38;5;28;01mif\u001b[39;00m \u001b[38;5;28mself\u001b[39m\u001b[38;5;241m.\u001b[39minput_format \u001b[38;5;241m==\u001b[39m \u001b[38;5;124m\"\u001b[39m\u001b[38;5;124mwide\u001b[39m\u001b[38;5;124m\"\u001b[39m \u001b[38;5;129;01mand\u001b[39;00m orient \u001b[38;5;241m==\u001b[39m \u001b[38;5;124m\"\u001b[39m\u001b[38;5;124mh\u001b[39m\u001b[38;5;124m\"\u001b[39m:\n",
      "File \u001b[1;32m~\\anaconda3\\Lib\\site-packages\\seaborn\\_oldcore.py:640\u001b[0m, in \u001b[0;36mVectorPlotter.__init__\u001b[1;34m(self, data, variables)\u001b[0m\n\u001b[0;32m    635\u001b[0m \u001b[38;5;66;03m# var_ordered is relevant only for categorical axis variables, and may\u001b[39;00m\n\u001b[0;32m    636\u001b[0m \u001b[38;5;66;03m# be better handled by an internal axis information object that tracks\u001b[39;00m\n\u001b[0;32m    637\u001b[0m \u001b[38;5;66;03m# such information and is set up by the scale_* methods. The analogous\u001b[39;00m\n\u001b[0;32m    638\u001b[0m \u001b[38;5;66;03m# information for numeric axes would be information about log scales.\u001b[39;00m\n\u001b[0;32m    639\u001b[0m \u001b[38;5;28mself\u001b[39m\u001b[38;5;241m.\u001b[39m_var_ordered \u001b[38;5;241m=\u001b[39m {\u001b[38;5;124m\"\u001b[39m\u001b[38;5;124mx\u001b[39m\u001b[38;5;124m\"\u001b[39m: \u001b[38;5;28;01mFalse\u001b[39;00m, \u001b[38;5;124m\"\u001b[39m\u001b[38;5;124my\u001b[39m\u001b[38;5;124m\"\u001b[39m: \u001b[38;5;28;01mFalse\u001b[39;00m}  \u001b[38;5;66;03m# alt., used DefaultDict\u001b[39;00m\n\u001b[1;32m--> 640\u001b[0m \u001b[38;5;28mself\u001b[39m\u001b[38;5;241m.\u001b[39massign_variables(data, variables)\n\u001b[0;32m    642\u001b[0m \u001b[38;5;28;01mfor\u001b[39;00m var, \u001b[38;5;28mcls\u001b[39m \u001b[38;5;129;01min\u001b[39;00m \u001b[38;5;28mself\u001b[39m\u001b[38;5;241m.\u001b[39m_semantic_mappings\u001b[38;5;241m.\u001b[39mitems():\n\u001b[0;32m    643\u001b[0m \n\u001b[0;32m    644\u001b[0m     \u001b[38;5;66;03m# Create the mapping function\u001b[39;00m\n\u001b[0;32m    645\u001b[0m     map_func \u001b[38;5;241m=\u001b[39m partial(\u001b[38;5;28mcls\u001b[39m\u001b[38;5;241m.\u001b[39mmap, plotter\u001b[38;5;241m=\u001b[39m\u001b[38;5;28mself\u001b[39m)\n",
      "File \u001b[1;32m~\\anaconda3\\Lib\\site-packages\\seaborn\\_oldcore.py:701\u001b[0m, in \u001b[0;36mVectorPlotter.assign_variables\u001b[1;34m(self, data, variables)\u001b[0m\n\u001b[0;32m    699\u001b[0m \u001b[38;5;28;01melse\u001b[39;00m:\n\u001b[0;32m    700\u001b[0m     \u001b[38;5;28mself\u001b[39m\u001b[38;5;241m.\u001b[39minput_format \u001b[38;5;241m=\u001b[39m \u001b[38;5;124m\"\u001b[39m\u001b[38;5;124mlong\u001b[39m\u001b[38;5;124m\"\u001b[39m\n\u001b[1;32m--> 701\u001b[0m     plot_data, variables \u001b[38;5;241m=\u001b[39m \u001b[38;5;28mself\u001b[39m\u001b[38;5;241m.\u001b[39m_assign_variables_longform(\n\u001b[0;32m    702\u001b[0m         data, \u001b[38;5;241m*\u001b[39m\u001b[38;5;241m*\u001b[39mvariables,\n\u001b[0;32m    703\u001b[0m     )\n\u001b[0;32m    705\u001b[0m \u001b[38;5;28mself\u001b[39m\u001b[38;5;241m.\u001b[39mplot_data \u001b[38;5;241m=\u001b[39m plot_data\n\u001b[0;32m    706\u001b[0m \u001b[38;5;28mself\u001b[39m\u001b[38;5;241m.\u001b[39mvariables \u001b[38;5;241m=\u001b[39m variables\n",
      "File \u001b[1;32m~\\anaconda3\\Lib\\site-packages\\seaborn\\_oldcore.py:938\u001b[0m, in \u001b[0;36mVectorPlotter._assign_variables_longform\u001b[1;34m(self, data, **kwargs)\u001b[0m\n\u001b[0;32m    933\u001b[0m \u001b[38;5;28;01melif\u001b[39;00m \u001b[38;5;28misinstance\u001b[39m(val, (\u001b[38;5;28mstr\u001b[39m, \u001b[38;5;28mbytes\u001b[39m)):\n\u001b[0;32m    934\u001b[0m \n\u001b[0;32m    935\u001b[0m     \u001b[38;5;66;03m# This looks like a column name but we don't know what it means!\u001b[39;00m\n\u001b[0;32m    937\u001b[0m     err \u001b[38;5;241m=\u001b[39m \u001b[38;5;124mf\u001b[39m\u001b[38;5;124m\"\u001b[39m\u001b[38;5;124mCould not interpret value `\u001b[39m\u001b[38;5;132;01m{\u001b[39;00mval\u001b[38;5;132;01m}\u001b[39;00m\u001b[38;5;124m` for parameter `\u001b[39m\u001b[38;5;132;01m{\u001b[39;00mkey\u001b[38;5;132;01m}\u001b[39;00m\u001b[38;5;124m`\u001b[39m\u001b[38;5;124m\"\u001b[39m\n\u001b[1;32m--> 938\u001b[0m     \u001b[38;5;28;01mraise\u001b[39;00m \u001b[38;5;167;01mValueError\u001b[39;00m(err)\n\u001b[0;32m    940\u001b[0m \u001b[38;5;28;01melse\u001b[39;00m:\n\u001b[0;32m    941\u001b[0m \n\u001b[0;32m    942\u001b[0m     \u001b[38;5;66;03m# Otherwise, assume the value is itself data\u001b[39;00m\n\u001b[0;32m    943\u001b[0m \n\u001b[0;32m    944\u001b[0m     \u001b[38;5;66;03m# Raise when data object is present and a vector can't matched\u001b[39;00m\n\u001b[0;32m    945\u001b[0m     \u001b[38;5;28;01mif\u001b[39;00m \u001b[38;5;28misinstance\u001b[39m(data, pd\u001b[38;5;241m.\u001b[39mDataFrame) \u001b[38;5;129;01mand\u001b[39;00m \u001b[38;5;129;01mnot\u001b[39;00m \u001b[38;5;28misinstance\u001b[39m(val, pd\u001b[38;5;241m.\u001b[39mSeries):\n",
      "\u001b[1;31mValueError\u001b[0m: Could not interpret value `DiscountsAvailed` for parameter `x`"
     ]
    }
   ],
   "source": [
    "res = sns.swarmplot(x=\"DiscountsAvailed\", y=\"Age\", data=dt)\n",
    " \n",
    "plt.show()"
   ]
  },
  {
   "cell_type": "markdown",
   "id": "417d5373-16df-4f45-8f8b-c87ad33e5850",
   "metadata": {},
   "source": [
    "# BarPlot"
   ]
  },
  {
   "cell_type": "code",
   "execution_count": 40,
   "id": "1ad10149-ac2a-4c37-8ec5-4fd96e8a1ebe",
   "metadata": {},
   "outputs": [
    {
     "data": {
      "text/plain": [
       "<Axes: xlabel='NumberOfPurchases', ylabel='Age'>"
      ]
     },
     "execution_count": 40,
     "metadata": {},
     "output_type": "execute_result"
    },
    {
     "data": {
      "image/png": "[encoded data removed]",
      "text/plain": [
       "<Figure size 640x480 with 1 Axes>"
      ]
     },
     "metadata": {},
     "output_type": "display_data"
    }
   ],
   "source": [
    "dt=data[data.index.isin(range(2,200))]\n",
    "dt1=dt.loc[dt['Age']>=50]\n",
    "sns.barplot(data=dt1 ,x='NumberOfPurchases',y='Age')\n"
   ]
  },
  {
   "cell_type": "markdown",
   "id": "08fe0884-dc69-4a01-800a-bdd3771cf177",
   "metadata": {},
   "source": [
    "# Seaborn Violinplot"
   ]
  },
  {
   "cell_type": "code",
   "execution_count": 72,
   "id": "c6fd6343-d8b5-471f-a009-71e5be97d6e4",
   "metadata": {},
   "outputs": [
    {
     "data": {
      "image/png": "[encoded data removed]",
      "text/plain": [
       "<Figure size 640x480 with 1 Axes>"
      ]
     },
     "metadata": {},
     "output_type": "display_data"
    }
   ],
   "source": [
    "res = sns.violinplot(x=dt['NumberOfPurchases'])\n",
    "plt.show()"
   ]
  },
  {
   "cell_type": "markdown",
   "id": "09ae04ee-e557-47c9-a806-33c464bfc6a4",
   "metadata": {},
   "source": [
    "# Boxplot"
   ]
  },
  {
   "cell_type": "code",
   "execution_count": 73,
   "id": "c138c776-0bd5-4f46-90ca-9c69f8ce2439",
   "metadata": {},
   "outputs": [
    {
     "data": {
      "image/png": "[encoded data removed]",
      "text/plain": [
       "<Figure size 640x480 with 1 Axes>"
      ]
     },
     "metadata": {},
     "output_type": "display_data"
    }
   ],
   "source": [
    "res = sns.boxplot(x=dt['AnnualIncome'])\n",
    "plt.show()"
   ]
  },
  {
   "cell_type": "markdown",
   "id": "14d6804a-d1e7-4c90-9c02-92f1226de93d",
   "metadata": {},
   "source": [
    "# Pointplot()"
   ]
  },
  {
   "cell_type": "code",
   "execution_count": 77,
   "id": "8bfa4d9e-1bd3-482f-bd1e-a8cc4ba7b722",
   "metadata": {},
   "outputs": [
    {
     "data": {
      "image/png": "[encoded data removed]",
      "text/plain": [
       "<Figure size 640x480 with 1 Axes>"
      ]
     },
     "metadata": {},
     "output_type": "display_data"
    }
   ],
   "source": [
    "res = sns.pointplot(x=dt['TimeSpentOnWebsite'], y=dt['NumberOfPurchases'])\n",
    "plt.show()"
   ]
  },
  {
   "cell_type": "markdown",
   "id": "9f81024c-d802-4cb8-914c-c29409d8e376",
   "metadata": {},
   "source": [
    "# Pairplot()"
   ]
  },
  {
   "cell_type": "code",
   "execution_count": 42,
   "id": "13f7c2de-6ae0-4b7a-92aa-46bd8a4a9748",
   "metadata": {},
   "outputs": [
    {
     "data": {
      "text/plain": [
       "<seaborn.axisgrid.PairGrid at 0x1a56daadc90>"
      ]
     },
     "execution_count": 42,
     "metadata": {},
     "output_type": "execute_result"
    },
    {
     "data": {
      "image/png": "[encoded data removed]",
      "text/plain": [
       "<Figure size 1250x1250 with 30 Axes>"
      ]
     },
     "metadata": {},
     "output_type": "display_data"
    }
   ],
   "source": [
    "sns.pairplot(dt[['Age','TimeSpentOnWebsite','DiscountsAvailed','ProductCategory','PurchaseStatus']])"
   ]
  },
  {
   "cell_type": "code",
   "execution_count": 54,
   "id": "d840efe1-72f5-4e51-8aa3-892872c4b069",
   "metadata": {},
   "outputs": [
    {
     "data": {
      "text/html": [
       "<div>\n",
       "<style scoped>\n",
       "    .dataframe tbody tr th:only-of-type {\n",
       "        vertical-align: middle;\n",
       "    }\n",
       "\n",
       "    .dataframe tbody tr th {\n",
       "        vertical-align: top;\n",
       "    }\n",
       "\n",
       "    .dataframe thead th {\n",
       "        text-align: right;\n",
       "    }\n",
       "</style>\n",
       "<table border=\"1\" class=\"dataframe\">\n",
       "  <thead>\n",
       "    <tr style=\"text-align: right;\">\n",
       "      <th></th>\n",
       "      <th>Age</th>\n",
       "      <th>Gender</th>\n",
       "      <th>AnnualIncome</th>\n",
       "      <th>NumberOfPurchases</th>\n",
       "      <th>ProductCategory</th>\n",
       "      <th>TimeSpentOnWebsite</th>\n",
       "      <th>LoyaltyProgram</th>\n",
       "      <th>DiscountsAvailed</th>\n",
       "      <th>PurchaseStatus</th>\n",
       "    </tr>\n",
       "  </thead>\n",
       "  <tbody>\n",
       "    <tr>\n",
       "      <th>0</th>\n",
       "      <td>40</td>\n",
       "      <td>1</td>\n",
       "      <td>66120.267939</td>\n",
       "      <td>8</td>\n",
       "      <td>0</td>\n",
       "      <td>30.568601</td>\n",
       "      <td>0</td>\n",
       "      <td>5</td>\n",
       "      <td>1</td>\n",
       "    </tr>\n",
       "  </tbody>\n",
       "</table>\n",
       "</div>"
      ],
      "text/plain": [
       "   Age  Gender  AnnualIncome  NumberOfPurchases  ProductCategory  \\\n",
       "0   40       1  66120.267939                  8                0   \n",
       "\n",
       "   TimeSpentOnWebsite  LoyaltyProgram  DiscountsAvailed  PurchaseStatus  \n",
       "0           30.568601               0                 5               1  "
      ]
     },
     "execution_count": 54,
     "metadata": {},
     "output_type": "execute_result"
    }
   ],
   "source": [
    "dt.head(1)"
   ]
  }
 ],
 "metadata": {
  "kernelspec": {
   "display_name": "Python 3 (ipykernel)",
   "language": "python",
   "name": "python3"
  },
  "language_info": {
   "codemirror_mode": {
    "name": "ipython",
    "version": 3
   },
   "file_extension": ".py",
   "mimetype": "text/x-python",
   "name": "python",
   "nbconvert_exporter": "python",
   "pygments_lexer": "ipython3",
   "version": "3.11.7"
  }
 },
 "nbformat": 4,
 "nbformat_minor": 5
}
